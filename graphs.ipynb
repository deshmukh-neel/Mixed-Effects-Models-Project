{
 "cells": [
  {
   "cell_type": "code",
   "execution_count": null,
   "id": "da20a9f1",
   "metadata": {},
   "outputs": [],
   "source": [
    "import plotly.graph_objects as go\n",
    "import numpy as np\n",
    "import pandas as pd\n",
    "import scipy.stats as stats\n",
    "import statsmodels.api as sm\n",
    "import statsmodels.formula.api as smf"
   ]
  },
  {
   "cell_type": "code",
   "execution_count": 60,
   "id": "21b0c0f5",
   "metadata": {},
   "outputs": [],
   "source": [
    "data = pd.read_csv(\"Data/masters_salary.csv\")"
   ]
  },
  {
   "cell_type": "code",
   "execution_count": 18,
   "id": "8faa8153",
   "metadata": {},
   "outputs": [
    {
     "data": {
      "text/html": [
       "<div>\n",
       "<style scoped>\n",
       "    .dataframe tbody tr th:only-of-type {\n",
       "        vertical-align: middle;\n",
       "    }\n",
       "\n",
       "    .dataframe tbody tr th {\n",
       "        vertical-align: top;\n",
       "    }\n",
       "\n",
       "    .dataframe thead th {\n",
       "        text-align: right;\n",
       "    }\n",
       "</style>\n",
       "<table border=\"1\" class=\"dataframe\">\n",
       "  <thead>\n",
       "    <tr style=\"text-align: right;\">\n",
       "      <th></th>\n",
       "      <th>masters_university</th>\n",
       "      <th>masters_gpa</th>\n",
       "      <th>relevant_work_years</th>\n",
       "      <th>years_python</th>\n",
       "      <th>years_sql</th>\n",
       "      <th>first_job_salary</th>\n",
       "    </tr>\n",
       "  </thead>\n",
       "  <tbody>\n",
       "    <tr>\n",
       "      <th>0</th>\n",
       "      <td>UC Berkeley</td>\n",
       "      <td>3.81</td>\n",
       "      <td>2</td>\n",
       "      <td>0</td>\n",
       "      <td>0</td>\n",
       "      <td>143967</td>\n",
       "    </tr>\n",
       "    <tr>\n",
       "      <th>1</th>\n",
       "      <td>UC Berkeley</td>\n",
       "      <td>3.86</td>\n",
       "      <td>4</td>\n",
       "      <td>0</td>\n",
       "      <td>1</td>\n",
       "      <td>157807</td>\n",
       "    </tr>\n",
       "    <tr>\n",
       "      <th>2</th>\n",
       "      <td>UC Berkeley</td>\n",
       "      <td>3.13</td>\n",
       "      <td>1</td>\n",
       "      <td>0</td>\n",
       "      <td>0</td>\n",
       "      <td>142127</td>\n",
       "    </tr>\n",
       "    <tr>\n",
       "      <th>3</th>\n",
       "      <td>UC Berkeley</td>\n",
       "      <td>3.30</td>\n",
       "      <td>2</td>\n",
       "      <td>2</td>\n",
       "      <td>2</td>\n",
       "      <td>96286</td>\n",
       "    </tr>\n",
       "    <tr>\n",
       "      <th>4</th>\n",
       "      <td>UC Berkeley</td>\n",
       "      <td>3.65</td>\n",
       "      <td>1</td>\n",
       "      <td>1</td>\n",
       "      <td>1</td>\n",
       "      <td>137192</td>\n",
       "    </tr>\n",
       "  </tbody>\n",
       "</table>\n",
       "</div>"
      ],
      "text/plain": [
       "  masters_university  masters_gpa  relevant_work_years  years_python  \\\n",
       "0        UC Berkeley         3.81                    2             0   \n",
       "1        UC Berkeley         3.86                    4             0   \n",
       "2        UC Berkeley         3.13                    1             0   \n",
       "3        UC Berkeley         3.30                    2             2   \n",
       "4        UC Berkeley         3.65                    1             1   \n",
       "\n",
       "   years_sql  first_job_salary  \n",
       "0          0            143967  \n",
       "1          1            157807  \n",
       "2          0            142127  \n",
       "3          2             96286  \n",
       "4          1            137192  "
      ]
     },
     "execution_count": 18,
     "metadata": {},
     "output_type": "execute_result"
    }
   ],
   "source": [
    "data.head()"
   ]
  },
  {
   "cell_type": "code",
   "execution_count": 33,
   "id": "2d57a9fb",
   "metadata": {},
   "outputs": [],
   "source": [
    "\n",
    "model1 = smf.ols('first_job_salary ~ C(masters_university)', data=data).fit()\n",
    "model2 = smf.ols('first_job_salary ~ masters_gpa', data=data).fit()\n",
    "model3 = smf.ols('first_job_salary ~ relevant_work_years', data=data).fit()\n",
    "model4 = smf.ols('first_job_salary ~ years_python', data=data).fit()\n",
    "model5 = smf.ols('first_job_salary ~ years_sql', data=data).fit()\n"
   ]
  },
  {
   "cell_type": "code",
   "execution_count": 62,
   "id": "64077c42",
   "metadata": {},
   "outputs": [
    {
     "name": "stdout",
     "output_type": "stream",
     "text": [
      "Model 1: Master's Program. Slope: 40508.76163151801 Intercept: 3038.9555399613873\n",
      "Model 2: GPA. Slope: 4586.5990413194195 Intercept: 129426.88312859375\n",
      "Model 3: Relevant Work Experience. Slope: 3865.273635404848 Intercept: 137388.62642936342\n",
      "Model 4: Python Experience. Slope: 2861.612022372599 Intercept: 140246.51308764511\n",
      "Model 5: SQL Experience. Slope: -126.11023166747911 Intercept: 144697.10206989825\n"
     ]
    }
   ],
   "source": [
    "print(f\"Model 1: Master's Program. Slope: {model1.params.iloc[1]} Intercept: {model1.params.iloc[0]}\")\n",
    "print(f\"Model 2: GPA. Slope: {model2.params.iloc[1]} Intercept: {model2.params.iloc[0]}\")\n",
    "print(f\"Model 3: Relevant Work Experience. Slope: {model3.params.iloc[1]} Intercept: {model3.params.iloc[0]}\")\n",
    "print(f\"Model 4: Python Experience. Slope: {model4.params.iloc[1]} Intercept: {model4.params.iloc[0]}\")\n",
    "print(f\"Model 5: SQL Experience. Slope: {model5.params.iloc[1]} Intercept: {model5.params.iloc[0]}\")\n",
    "\n"
   ]
  },
  {
   "cell_type": "code",
   "execution_count": 35,
   "id": "12510e23",
   "metadata": {},
   "outputs": [
    {
     "name": "stdout",
     "output_type": "stream",
     "text": [
      "                            OLS Regression Results                            \n",
      "==============================================================================\n",
      "Dep. Variable:       first_job_salary   R-squared:                       0.009\n",
      "Model:                            OLS   Adj. R-squared:                  0.007\n",
      "Method:                 Least Squares   F-statistic:                     4.307\n",
      "Date:                Thu, 09 Oct 2025   Prob (F-statistic):             0.0385\n",
      "Time:                        13:05:18   Log-Likelihood:                -5727.4\n",
      "No. Observations:                 500   AIC:                         1.146e+04\n",
      "Df Residuals:                     498   BIC:                         1.147e+04\n",
      "Df Model:                           1                                         \n",
      "Covariance Type:            nonrobust                                         \n",
      "=======================================================================================\n",
      "                          coef    std err          t      P>|t|      [0.025      0.975]\n",
      "---------------------------------------------------------------------------------------\n",
      "Intercept            1.482e+05   2088.993     70.959      0.000    1.44e+05    1.52e+05\n",
      "relevant_work_years -1018.8036    490.937     -2.075      0.038   -1983.367     -54.241\n",
      "==============================================================================\n",
      "Omnibus:                        4.290   Durbin-Watson:                   1.399\n",
      "Prob(Omnibus):                  0.117   Jarque-Bera (JB):                3.908\n",
      "Skew:                          -0.153   Prob(JB):                        0.142\n",
      "Kurtosis:                       2.694   Cond. No.                         9.06\n",
      "==============================================================================\n",
      "\n",
      "Notes:\n",
      "[1] Standard Errors assume that the covariance matrix of the errors is correctly specified.\n"
     ]
    }
   ],
   "source": [
    "print(model3.summary())"
   ]
  },
  {
   "cell_type": "code",
   "execution_count": 81,
   "id": "0d195292",
   "metadata": {},
   "outputs": [
    {
     "name": "stdout",
     "output_type": "stream",
     "text": [
      "                    Mixed Linear Model Regression Results\n",
      "=============================================================================\n",
      "Model:                 MixedLM      Dependent Variable:      first_job_salary\n",
      "No. Observations:      500          Method:                  REML            \n",
      "No. Groups:            5            Scale:                   242372226.6799  \n",
      "Min. group size:       100          Log-Likelihood:          -5505.6267      \n",
      "Max. group size:       100          Converged:               Yes             \n",
      "Mean group size:       100.0                                                 \n",
      "-----------------------------------------------------------------------------\n",
      "                        Coef.      Std.Err.   z    P>|z|   [0.025     0.975] \n",
      "-----------------------------------------------------------------------------\n",
      "Intercept               -8693.935 13198.528 -0.659 0.510 -34562.574 17174.704\n",
      "masters_gpa             39488.329  2978.484 13.258 0.000  33650.608 45326.050\n",
      "relevant_work_years      6788.009   602.232 11.271 0.000   5607.656  7968.362\n",
      "years_python             1922.723   489.502  3.928 0.000    963.318  2882.128\n",
      "years_sql                 632.153   472.256  1.339 0.181   -293.452  1557.758\n",
      "Group Var           323494032.493 14961.015                                  \n",
      "=============================================================================\n",
      "\n"
     ]
    }
   ],
   "source": [
    "\n",
    "\n",
    "model = smf.mixedlm(\n",
    "    \"first_job_salary ~ masters_gpa + relevant_work_years + years_python + years_sql\",\n",
    "    data=data,\n",
    "    groups=data[\"masters_university\"]\n",
    ").fit()\n",
    "\n",
    "print(model.summary())"
   ]
  },
  {
   "cell_type": "code",
   "execution_count": 82,
   "id": "a2d9bba1",
   "metadata": {},
   "outputs": [
    {
     "name": "stderr",
     "output_type": "stream",
     "text": [
      "/Users/neeldeshmukh/miniconda3/envs/ME_Model/lib/python3.11/site-packages/statsmodels/base/model.py:607: ConvergenceWarning:\n",
      "\n",
      "Maximum Likelihood optimization failed to converge. Check mle_retvals\n",
      "\n",
      "/Users/neeldeshmukh/miniconda3/envs/ME_Model/lib/python3.11/site-packages/statsmodels/regression/mixed_linear_model.py:2200: ConvergenceWarning:\n",
      "\n",
      "Retrying MixedLM optimization with lbfgs\n",
      "\n",
      "/Users/neeldeshmukh/miniconda3/envs/ME_Model/lib/python3.11/site-packages/statsmodels/base/model.py:607: ConvergenceWarning:\n",
      "\n",
      "Maximum Likelihood optimization failed to converge. Check mle_retvals\n",
      "\n",
      "/Users/neeldeshmukh/miniconda3/envs/ME_Model/lib/python3.11/site-packages/statsmodels/regression/mixed_linear_model.py:2200: ConvergenceWarning:\n",
      "\n",
      "Retrying MixedLM optimization with lbfgs\n",
      "\n",
      "/Users/neeldeshmukh/miniconda3/envs/ME_Model/lib/python3.11/site-packages/statsmodels/base/model.py:607: ConvergenceWarning:\n",
      "\n",
      "Maximum Likelihood optimization failed to converge. Check mle_retvals\n",
      "\n",
      "/Users/neeldeshmukh/miniconda3/envs/ME_Model/lib/python3.11/site-packages/statsmodels/regression/mixed_linear_model.py:2200: ConvergenceWarning:\n",
      "\n",
      "Retrying MixedLM optimization with cg\n",
      "\n",
      "/Users/neeldeshmukh/miniconda3/envs/ME_Model/lib/python3.11/site-packages/statsmodels/base/model.py:607: ConvergenceWarning:\n",
      "\n",
      "Maximum Likelihood optimization failed to converge. Check mle_retvals\n",
      "\n",
      "/Users/neeldeshmukh/miniconda3/envs/ME_Model/lib/python3.11/site-packages/statsmodels/regression/mixed_linear_model.py:2206: ConvergenceWarning:\n",
      "\n",
      "MixedLM optimization failed, trying a different optimizer may help.\n",
      "\n",
      "/Users/neeldeshmukh/miniconda3/envs/ME_Model/lib/python3.11/site-packages/statsmodels/regression/mixed_linear_model.py:2218: ConvergenceWarning:\n",
      "\n",
      "Gradient optimization failed, |grad| = 6.644226\n",
      "\n",
      "/Users/neeldeshmukh/miniconda3/envs/ME_Model/lib/python3.11/site-packages/statsmodels/regression/mixed_linear_model.py:2261: ConvergenceWarning:\n",
      "\n",
      "The Hessian matrix at the estimated parameter values is not positive definite.\n",
      "\n"
     ]
    }
   ],
   "source": [
    "model1 = smf.mixedlm(\n",
    "    \"first_job_salary ~ masters_gpa\",\n",
    "    data=data,\n",
    "    groups=data[\"masters_university\"],\n",
    "    re_formula=\"~masters_gpa\"\n",
    ").fit()\n",
    "\n",
    "model2 = smf.mixedlm(\n",
    "    \"first_job_salary ~ relevant_work_years\",\n",
    "    data=data,\n",
    "    groups=data[\"masters_university\"],\n",
    "    re_formula=\"~relevant_work_years\"\n",
    ").fit()\n",
    "\n",
    "model3 = smf.mixedlm(\n",
    "    \"first_job_salary ~ years_python\",\n",
    "    data=data,\n",
    "    groups=data[\"masters_university\"],\n",
    "    re_formula=\"~years_python\"\n",
    ").fit()\n",
    "\n",
    "model4 = smf.mixedlm(\n",
    "    \"first_job_salary ~ years_sql\",\n",
    "    data=data,\n",
    "    groups=data[\"masters_university\"],\n",
    "    re_formula=\"~years_sql\"\n",
    ").fit()\n"
   ]
  },
  {
   "cell_type": "code",
   "execution_count": null,
   "id": "d4c6ecb8",
   "metadata": {},
   "outputs": [
    {
     "data": {
      "application/vnd.plotly.v1+json": {
       "config": {
        "plotlyServerURL": "https://plotly.com"
       },
       "data": [
        {
         "line": {
          "color": "black",
          "dash": "dash"
         },
         "mode": "lines",
         "name": "Population Average",
         "type": "scatter",
         "visible": true,
         "x": {
          "bdata": "7FG4HoXrBUAGXlnglQUGQCBq+qGmHwZAOnabY7c5BkBUgjwlyFMGQG6O3ebYbQZAiJp+qOmHBkCiph9q+qEGQLyywCsLvAZA175h7RvWBkDxygKvLPAGQAvXo3A9CgdAJeNEMk4kB0A/7+XzXj4HQFn7hrVvWAdAcwcod4ByB0CNE8k4kYwHQKcfavqhpgdAwSsLvLLAB0DbN6x9w9oHQPVDTT/U9AdAD1DuAOUOCEApXI/C9SgIQERoMIQGQwhAXnTRRRddCEB4gHIHKHcIQJKME8k4kQhArJi0ikmrCEDGpFVMWsUIQOCw9g1r3whA+ryXz3v5CEAUyTiRjBMJQC7V2VKdLQlASOF6FK5HCUBi7RvWvmEJQHz5vJfPewlAlgVeWeCVCUCwEf8a8a8JQModoNwByglA5ClBnhLkCUD+NeJfI/4JQBhCgyE0GApAMk4k40QyCkBNWsWkVUwKQGdmZmZmZgpAgXIHKHeACkCbfqjph5oKQLWKSauYtApAz5bqbKnOCkDpoosuuugKQAOvLPDKAgtAHbvNsdscC0A3x25z7DYLQFHTDzX9UAtAbN+w9g1rC0CG61G4HoULQKD38nkvnwtAugOUO0C5C0DUDzX9UNMLQO4b1r5h7QtACCh3gHIHDEAiNBhCgyEMQDxAuQOUOwxAVkxaxaRVDEBwWPuGtW8MQIpknEjGiQxApHA9CtejDEC+fN7L570MQNiIf4341wxA8pQgTwnyDEAMocEQGgwNQCatYtIqJg1AQLkDlDtADUBaxaRVTFoNQHTRRRdddA1Aj93m2G2ODUCp6YeafqgNQMP1KFyPwg1A3QHKHaDcDUD3DWvfsPYNQBEaDKHBEA5AKyatYtIqDkBFMk4k40QOQF8+7+XzXg5AeUqQpwR5DkCUVjFpFZMOQK5i0iomrQ5AyG5z7DbHDkDiehSuR+EOQPyGtW9Y+w5AFpNWMWkVD0Awn/fyeS8PQEqrmLSKSQ9AZLc5dptjD0B+w9o3rH0PQJjPe/m8lw9Astscu82xD0DM57183ssPQObzXj7v5Q9AAAAAAAAAEEA=",
          "dtype": "f8"
         },
         "y": {
          "bdata": "/tDCKmUx/0CL/wseyVL/QBguVREtdP9ApVyeBJGV/0Ayi+f39Lb/QMC5MOtY2P9ATeh53rz5/0Bti+FokA0AQbQihmJCHgBB+7kqXPQuAEFCUc9Vpj8AQYjoc09YUABBzn8YSQphAEEVF71CvHEAQVyuYTxuggBBokUGNiCTAEHp3Kov0qMAQTB0TymEtABBdgv0IjbFAEG8opgc6NUAQQQ6PRaa5gBBStHhD0z3AEGQaIYJ/gcBQdj/KgOwGAFBHpfP/GEpAUFlLnT2EzoBQazFGPDFSgFB8ly96XdbAUE49GHjKWwBQX+LBt3bfAFBxiKr1o2NAUEMuk/QP54BQVNR9MnxrgFBmuiYw6O/AUHgfz29VdABQScX4rYH4QFBba6GsLnxAUG0RSuqawICQfvcz6MdEwJBQXR0nc8jAkGICxmXgTQCQc6ivZAzRQJBFTpiiuVVAkFc0QaEl2YCQaNoq31JdwJB6f9Pd/uHAkEwl/RwrZgCQXYumWpfqQJBvcU9ZBG6AkEEXeJdw8oCQUr0hld12wJBkYsrUSfsAkHXItBK2fwCQR66dESLDQNBZVEZPj0eA0Gs6L037y4DQfJ/YjGhPwNBORcHK1NQA0GArqskBWEDQcZFUB63cQNBDd30F2mCA0FTdJkRG5MDQZoLPgvNowNB4aLiBH+0A0EnOof+MMUDQW7RK/ji1QNBtGjQ8ZTmA0H7/3TrRvcDQUGXGeX4BwRBiC6+3qoYBEHPxWLYXCkEQRVdB9IOOgRBXPSry8BKBEGii1DFclsEQeki9b4kbARBMLqZuNZ8BEF3UT6yiI0EQb3o4qs6ngRBBICHpeyuBEFLFyyfnr8EQZGu0JhQ0ARB2EV1kgLhBEEe3RmMtPEEQWV0voVmAgVBrAtjfxgTBUHzogd5yiMFQTk6rHJ8NAVBgNFQbC5FBUHHaPVl4FUFQQ0Aml+SZgVBVJc+WUR3BUGaLuNS9ocFQeHFh0yomAVBJ10sRlqpBUFu9NA/DLoFQbWLdTm+ygVB+yIaM3DbBUFCur4sIuwFQYhRYybU/AVBz+gHIIYNBkE=",
          "dtype": "f8"
         }
        },
        {
         "mode": "lines",
         "name": "San Jose State",
         "opacity": 0.6,
         "type": "scatter",
         "visible": true,
         "x": {
          "bdata": "7FG4HoXrBUAGXlnglQUGQCBq+qGmHwZAOnabY7c5BkBUgjwlyFMGQG6O3ebYbQZAiJp+qOmHBkCiph9q+qEGQLyywCsLvAZA175h7RvWBkDxygKvLPAGQAvXo3A9CgdAJeNEMk4kB0A/7+XzXj4HQFn7hrVvWAdAcwcod4ByB0CNE8k4kYwHQKcfavqhpgdAwSsLvLLAB0DbN6x9w9oHQPVDTT/U9AdAD1DuAOUOCEApXI/C9SgIQERoMIQGQwhAXnTRRRddCEB4gHIHKHcIQJKME8k4kQhArJi0ikmrCEDGpFVMWsUIQOCw9g1r3whA+ryXz3v5CEAUyTiRjBMJQC7V2VKdLQlASOF6FK5HCUBi7RvWvmEJQHz5vJfPewlAlgVeWeCVCUCwEf8a8a8JQModoNwByglA5ClBnhLkCUD+NeJfI/4JQBhCgyE0GApAMk4k40QyCkBNWsWkVUwKQGdmZmZmZgpAgXIHKHeACkCbfqjph5oKQLWKSauYtApAz5bqbKnOCkDpoosuuugKQAOvLPDKAgtAHbvNsdscC0A3x25z7DYLQFHTDzX9UAtAbN+w9g1rC0CG61G4HoULQKD38nkvnwtAugOUO0C5C0DUDzX9UNMLQO4b1r5h7QtACCh3gHIHDEAiNBhCgyEMQDxAuQOUOwxAVkxaxaRVDEBwWPuGtW8MQIpknEjGiQxApHA9CtejDEC+fN7L570MQNiIf4341wxA8pQgTwnyDEAMocEQGgwNQCatYtIqJg1AQLkDlDtADUBaxaRVTFoNQHTRRRdddA1Aj93m2G2ODUCp6YeafqgNQMP1KFyPwg1A3QHKHaDcDUD3DWvfsPYNQBEaDKHBEA5AKyatYtIqDkBFMk4k40QOQF8+7+XzXg5AeUqQpwR5DkCUVjFpFZMOQK5i0iomrQ5AyG5z7DbHDkDiehSuR+EOQPyGtW9Y+w5AFpNWMWkVD0Awn/fyeS8PQEqrmLSKSQ9AZLc5dptjD0B+w9o3rH0PQJjPe/m8lw9Astscu82xD0DM57183ssPQObzXj7v5Q9AAAAAAAAAEEA=",
          "dtype": "f8"
         },
         "y": {
          "bdata": "PCM5Elf+/UBRBF7S4Rv+QGblgpJsOf5Ae8anUvdW/kCQp8wSgnT+QKSI8dIMkv5AuWkWk5ev/kDOSjtTIs3+QOMrYBOt6v5A+QyF0zcI/0AO7qmTwiX/QCPPzlNNQ/9AN7DzE9hg/0BMkRjUYn7/QGFyPZTtm/9AdlNiVHi5/0CLNIcUA9f/QJ8VrNSN9P9AWntoSgwJAEHk63qq0RcAQW9cjQqXJgBB+syfalw1AEGEPbLKIUQAQQ+uxCrnUgBBmR7XiqxhAEEkj+nqcXAAQa7/+0o3fwBBOHAOq/yNAEHD4CALwpwAQU5RM2uHqwBB2MFFy0y6AEFiMlgrEskAQeyiaovX1wBBdxN965zmAEEChI9LYvUAQYz0oasnBAFBFmW0C+0SAUGg1cZrsiEBQStG2ct3MAFBtrbrKz0/AUFAJ/6LAk4BQcqXEOzHXAFBVAgjTI1rAUHgeDWsUnoBQWrpRwwYiQFB9FlabN2XAUF/ymzMoqYBQQo7fyxotQFBlKuRjC3EAUEeHKTs8tIBQaiMtky44QFBM/3IrH3wAUG+bdsMQ/8BQUje7WwIDgJB0k4Azc0cAkFdvxItkysCQegvJY1YOgJBcqA37R1JAkH8EEpN41cCQYeBXK2oZgJBEfJuDW51AkGcYoFtM4QCQSbTk834kgJBsEOmLb6hAkE6tLiNg7ACQcYky+1IvwJBUJXdTQ7OAkHaBfCt09wCQWR2Ag6Z6wJB7uYUbl76AkF6VyfOIwkDQQTIOS7pFwNBjjhMjq4mA0EYqV7uczUDQaQZcU45RANBLoqDrv5SA0G4+pUOxGEDQUJrqG6JcANBztu6zk5/A0FYTM0uFI4DQeK8347ZnANBbC3y7p6rA0H2nQRPZLoDQYIOF68pyQNBDH8pD+/XA0GW7ztvtOYDQSJgTs959QNBrNBgLz8EBEE2QXOPBBMEQcCxhe/JIQRBSiKYT48wBEHWkqqvVD8EQWADvQ8aTgRB6nPPb99cBEF05OHPpGsEQf5U9C9qegRBisUGkC+JBEEUNhnw9JcEQZ6mK1C6pgRBKBc+sH+1BEE=",
          "dtype": "f8"
         }
        },
        {
         "mode": "lines",
         "name": "Stanford",
         "opacity": 0.6,
         "type": "scatter",
         "visible": true,
         "x": {
          "bdata": "7FG4HoXrBUAGXlnglQUGQCBq+qGmHwZAOnabY7c5BkBUgjwlyFMGQG6O3ebYbQZAiJp+qOmHBkCiph9q+qEGQLyywCsLvAZA175h7RvWBkDxygKvLPAGQAvXo3A9CgdAJeNEMk4kB0A/7+XzXj4HQFn7hrVvWAdAcwcod4ByB0CNE8k4kYwHQKcfavqhpgdAwSsLvLLAB0DbN6x9w9oHQPVDTT/U9AdAD1DuAOUOCEApXI/C9SgIQERoMIQGQwhAXnTRRRddCEB4gHIHKHcIQJKME8k4kQhArJi0ikmrCEDGpFVMWsUIQOCw9g1r3whA+ryXz3v5CEAUyTiRjBMJQC7V2VKdLQlASOF6FK5HCUBi7RvWvmEJQHz5vJfPewlAlgVeWeCVCUCwEf8a8a8JQModoNwByglA5ClBnhLkCUD+NeJfI/4JQBhCgyE0GApAMk4k40QyCkBNWsWkVUwKQGdmZmZmZgpAgXIHKHeACkCbfqjph5oKQLWKSauYtApAz5bqbKnOCkDpoosuuugKQAOvLPDKAgtAHbvNsdscC0A3x25z7DYLQFHTDzX9UAtAbN+w9g1rC0CG61G4HoULQKD38nkvnwtAugOUO0C5C0DUDzX9UNMLQO4b1r5h7QtACCh3gHIHDEAiNBhCgyEMQDxAuQOUOwxAVkxaxaRVDEBwWPuGtW8MQIpknEjGiQxApHA9CtejDEC+fN7L570MQNiIf4341wxA8pQgTwnyDEAMocEQGgwNQCatYtIqJg1AQLkDlDtADUBaxaRVTFoNQHTRRRdddA1Aj93m2G2ODUCp6YeafqgNQMP1KFyPwg1A3QHKHaDcDUD3DWvfsPYNQBEaDKHBEA5AKyatYtIqDkBFMk4k40QOQF8+7+XzXg5AeUqQpwR5DkCUVjFpFZMOQK5i0iomrQ5AyG5z7DbHDkDiehSuR+EOQPyGtW9Y+w5AFpNWMWkVD0Awn/fyeS8PQEqrmLSKSQ9AZLc5dptjD0B+w9o3rH0PQJjPe/m8lw9Astscu82xD0DM57183ssPQObzXj7v5Q9AAAAAAAAAEEA=",
          "dtype": "f8"
         },
         "y": {
          "bdata": "vHEohfyW/0DqsFhuprn/QBbwiFdQ3P9ARC+5QPr+/0A5t/QU0hAAQc/WjAknIgBBZvYk/nszAEH9Fb3y0EQAQZQ1VeclVgBBK1Xt23pnAEHCdIXQz3gAQViUHcUkigBB77O1uXmbAEGG002uzqwAQRzz5aIjvgBBsxJ+l3jPAEFKMhaMzeAAQeBRroAi8gBBd3FGdXcDAUEOkd5pzBQBQaSwdl4hJgFBO9AOU3Y3AUHS76ZHy0gBQWkPPzwgWgFBAC/XMHVrAUGWTm8lynwBQS1uBxofjgFBxI2fDnSfAUFarTcDybABQfHMz/cdwgFBiOxn7HLTAUEeDADhx+QBQbUrmNUc9gFBTEswynEHAkHjasi+xhgCQXmKYLMbKgJBEKr4p3A7AkGnyZCcxUwCQT3pKJEaXgJB1AjBhW9vAkFrKFl6xIACQQFI8W4ZkgJBmGeJY26jAkEvhyFYw7QCQcamuUwYxgJBXcZRQW3XAkHz5ek1wugCQYoFgioX+gJBISUaH2wLA0G4RLITwRwDQU5kSggWLgNB5YPi/Go/A0F8o3rxv1ADQRLDEuYUYgNBquKq2mlzA0FAAkPPvoQDQdch28MTlgNBbkFzuGinA0EEYQutvbgDQZuAo6ESygNBMqA7lmfbA0HIv9OKvOwDQV/fa38R/gNB9v4DdGYPBEGNHpxouyAEQSM+NF0QMgRBul3MUWVDBEFRfWRGulQEQeec/DoPZgRBfryUL2R3BEEV3CwkuYgEQav7xBgOmgRBQhtdDWOrBEHZOvUBuLwEQW9ajfYMzgRBB3ol62HfBEGdmb3ftvAEQTS5VdQLAgVBy9jtyGATBUFi+IW9tSQFQfgXHrIKNgVBjze2pl9HBUEmV06btFgFQbx25o8JagVBU5Z+hF57BUHqtRZ5s4wFQYHVrm0IngVBGPVGYl2vBUGuFN9WssAFQUU0d0sH0gVB3FMPQFzjBUFyc6c0sfQFQQmTPykGBgZBoLLXHVsXBkE30m8SsCgGQc3xBwcFOgZBZBGg+1lLBkH7MDjwrlwGQZFQ0OQDbgZBKHBo2Vh/BkE=",
          "dtype": "f8"
         }
        },
        {
         "mode": "lines",
         "name": "UC Berkeley",
         "opacity": 0.6,
         "type": "scatter",
         "visible": true,
         "x": {
          "bdata": "7FG4HoXrBUAGXlnglQUGQCBq+qGmHwZAOnabY7c5BkBUgjwlyFMGQG6O3ebYbQZAiJp+qOmHBkCiph9q+qEGQLyywCsLvAZA175h7RvWBkDxygKvLPAGQAvXo3A9CgdAJeNEMk4kB0A/7+XzXj4HQFn7hrVvWAdAcwcod4ByB0CNE8k4kYwHQKcfavqhpgdAwSsLvLLAB0DbN6x9w9oHQPVDTT/U9AdAD1DuAOUOCEApXI/C9SgIQERoMIQGQwhAXnTRRRddCEB4gHIHKHcIQJKME8k4kQhArJi0ikmrCEDGpFVMWsUIQOCw9g1r3whA+ryXz3v5CEAUyTiRjBMJQC7V2VKdLQlASOF6FK5HCUBi7RvWvmEJQHz5vJfPewlAlgVeWeCVCUCwEf8a8a8JQModoNwByglA5ClBnhLkCUD+NeJfI/4JQBhCgyE0GApAMk4k40QyCkBNWsWkVUwKQGdmZmZmZgpAgXIHKHeACkCbfqjph5oKQLWKSauYtApAz5bqbKnOCkDpoosuuugKQAOvLPDKAgtAHbvNsdscC0A3x25z7DYLQFHTDzX9UAtAbN+w9g1rC0CG61G4HoULQKD38nkvnwtAugOUO0C5C0DUDzX9UNMLQO4b1r5h7QtACCh3gHIHDEAiNBhCgyEMQDxAuQOUOwxAVkxaxaRVDEBwWPuGtW8MQIpknEjGiQxApHA9CtejDEC+fN7L570MQNiIf4341wxA8pQgTwnyDEAMocEQGgwNQCatYtIqJg1AQLkDlDtADUBaxaRVTFoNQHTRRRdddA1Aj93m2G2ODUCp6YeafqgNQMP1KFyPwg1A3QHKHaDcDUD3DWvfsPYNQBEaDKHBEA5AKyatYtIqDkBFMk4k40QOQF8+7+XzXg5AeUqQpwR5DkCUVjFpFZMOQK5i0iomrQ5AyG5z7DbHDkDiehSuR+EOQPyGtW9Y+w5AFpNWMWkVD0Awn/fyeS8PQEqrmLSKSQ9AZLc5dptjD0B+w9o3rH0PQJjPe/m8lw9Astscu82xD0DM57183ssPQObzXj7v5Q9AAAAAAAAAEEA=",
          "dtype": "f8"
         },
         "y": {
          "bdata": "KKKfyh5S/kASIrFbtnD+QPyhwuxNj/5A6CHUfeWt/kDSoeUOfcz+QLwh958U6/5AqKEIMawJ/0CSIRrCQyj/QH6hK1PbRv9AaCE95HJl/0BUoU51CoT/QD4hYAaiov9AKqFxlznB/0AUIYMo0d//QP6glLlo/v9AdRBTJYAOAEFq0Nvtyx0AQV+QZLYXLQBBVVDtfmM8AEFKEHZHr0sAQT/Q/g/7WgBBNZCH2EZqAEEqUBChknkAQSAQmWneiABBFdAhMiqYAEELkKr6dacAQQBQM8PBtgBB9Q+8iw3GAEHrz0RUWdUAQeCPzRyl5ABB1U9W5fDzAEHLD9+tPAMBQcDPZ3aIEgFBtY/wPtQhAUGrT3kHIDEBQaAPAtBrQAFBlc+KmLdPAUGLjxNhA18BQYBPnClPbgFBdQ8l8pp9AUFrz6265owBQWCPNoMynAFBVk+/S36rAUFLD0gUyroBQUHP0NwVygFBNo9ZpWHZAUEsT+JtregBQSEPazb59wFBFs/z/kQHAkEMj3zHkBYCQQFPBZDcJQJB9g6OWCg1AkHszhYhdEQCQeGOn+m/UwJB104osgtjAkHMDrF6V3ICQcLOOUOjgQJBt47CC++QAkGtTkvUOqACQaIO1JyGrwJBl85cZdK+AkGNjuUtHs4CQYJObvZp3QJBdw73vrXsAkFtzn+HAfwCQWKOCFBNCwNBV06RGJkaA0FNDhrh5CkDQULOoqkwOQNBN44rcnxIA0EtTrQ6yFcDQSIOPQMUZwNBF87Fy192A0ENjk6Uq4UDQQJO11z3lANB+A1gJUOkA0HtzejtjrMDQeONcbbawgNB2E36fibSA0HNDYNHcuEDQcPNCxC+8ANBuI2U2AkABEGtTR2hVQ8EQaMNpmmhHgRBmM0uMu0tBEGOjbf6OD0EQYNNQMOETARBeQ3Ji9BbBEFuzVFUHGsEQWSN2hxoegRBWU1j5bOJBEFODeyt/5gEQUTNdHZLqARBOY39Ppe3BEEuTYYH48YEQSQND9Au1gRBGc2XmHrlBEEOjSBhxvQEQQRNqSkSBAVB+Qwy8l0TBUE=",
          "dtype": "f8"
         }
        },
        {
         "mode": "lines",
         "name": "UC San Diego",
         "opacity": 0.6,
         "type": "scatter",
         "visible": true,
         "x": {
          "bdata": "7FG4HoXrBUAGXlnglQUGQCBq+qGmHwZAOnabY7c5BkBUgjwlyFMGQG6O3ebYbQZAiJp+qOmHBkCiph9q+qEGQLyywCsLvAZA175h7RvWBkDxygKvLPAGQAvXo3A9CgdAJeNEMk4kB0A/7+XzXj4HQFn7hrVvWAdAcwcod4ByB0CNE8k4kYwHQKcfavqhpgdAwSsLvLLAB0DbN6x9w9oHQPVDTT/U9AdAD1DuAOUOCEApXI/C9SgIQERoMIQGQwhAXnTRRRddCEB4gHIHKHcIQJKME8k4kQhArJi0ikmrCEDGpFVMWsUIQOCw9g1r3whA+ryXz3v5CEAUyTiRjBMJQC7V2VKdLQlASOF6FK5HCUBi7RvWvmEJQHz5vJfPewlAlgVeWeCVCUCwEf8a8a8JQModoNwByglA5ClBnhLkCUD+NeJfI/4JQBhCgyE0GApAMk4k40QyCkBNWsWkVUwKQGdmZmZmZgpAgXIHKHeACkCbfqjph5oKQLWKSauYtApAz5bqbKnOCkDpoosuuugKQAOvLPDKAgtAHbvNsdscC0A3x25z7DYLQFHTDzX9UAtAbN+w9g1rC0CG61G4HoULQKD38nkvnwtAugOUO0C5C0DUDzX9UNMLQO4b1r5h7QtACCh3gHIHDEAiNBhCgyEMQDxAuQOUOwxAVkxaxaRVDEBwWPuGtW8MQIpknEjGiQxApHA9CtejDEC+fN7L570MQNiIf4341wxA8pQgTwnyDEAMocEQGgwNQCatYtIqJg1AQLkDlDtADUBaxaRVTFoNQHTRRRdddA1Aj93m2G2ODUCp6YeafqgNQMP1KFyPwg1A3QHKHaDcDUD3DWvfsPYNQBEaDKHBEA5AKyatYtIqDkBFMk4k40QOQF8+7+XzXg5AeUqQpwR5DkCUVjFpFZMOQK5i0iomrQ5AyG5z7DbHDkDiehSuR+EOQPyGtW9Y+w5AFpNWMWkVD0Awn/fyeS8PQEqrmLSKSQ9AZLc5dptjD0B+w9o3rH0PQJjPe/m8lw9Astscu82xD0DM57183ssPQObzXj7v5Q9AAAAAAAAAEEA=",
          "dtype": "f8"
         },
         "y": {
          "bdata": "5z8n3rcwAEFdezKbUUMAQdO2PVjrVQBBSfJIFYVoAEG/LVTSHnsAQTVpX4+4jQBBq6RqTFKgAEEh4HUJ7LIAQZgbgcaFxQBBDleMgx/YAEGFkpdAueoAQfvNov1S/QBBcQmuuuwPAUHnRLl3hiIBQV2AxDQgNQFB07vP8blHAUFJ99quU1oBQcAy5mvtbAFBNm7xKId/AUGsqfzlIJIBQSLlB6O6pAFBmCATYFS3AUEOXB4d7skBQYWXKdqH3AFB+9I0lyHvAUFxDkBUuwECQedJSxFVFAJBXoVWzu4mAkHUwGGLiDkCQUr8bEgiTAJBwDd4BbxeAkE2c4PCVXECQayujn/vgwJBIuqZPImWAkGZJaX5IqkCQQ9hsLa8uwJBhZy7c1bOAkH718Yw8OACQXET0u2J8wJB507dqiMGA0FdiuhnvRgDQdPF8yRXKwNBSgH/4fA9A0HAPAqfilADQTd4FVwkYwNBrbMgGb51A0Ej7yvWV4gDQZkqN5PxmgNBD2ZCUIutA0GFoU0NJcADQfvcWMq+0gNBcRhkh1jlA0HoU29E8vcDQV6PegGMCgRB1cqFviUdBEFLBpF7vy8EQcFBnDhZQgRBN32n9fJUBEGtuLKyjGcEQSP0vW8megRBmS/JLMCMBEEQa9TpWZ8EQYam36bzsQRB/OHqY43EBEFyHfYgJ9cEQehYAd7A6QRBXpQMm1r8BEHUzxdY9A4FQUoLIxWOIQVBwUYu0ic0BUE3gjmPwUYFQa29RExbWQVBI/lPCfVrBUGZNFvGjn4FQQ9wZoMokQVBhqtxQMKjBUH85nz9W7YFQXIiiLr1yAVB6F2Td4/bBUFfmZ40Ke4FQdXUqfHCAAZBSxC1rlwTBkHBS8Br9iUGQTeHyyiQOAZBrcLW5SlLBkEk/uGiw10GQZo57V9dcAZBEHX4HPeCBkGHsAPakJUGQf3rDpcqqAZBcycaVMS6BkHpYiURXs0GQV+eMM733wZB1dk7i5HyBkFLFUdIKwUHQcFQUgXFFwdBOIxdwl4qB0Gux2h/+DwHQSQDdDySTwdBmj5/+StiB0E=",
          "dtype": "f8"
         }
        },
        {
         "mode": "lines",
         "name": "UCLA",
         "opacity": 0.6,
         "type": "scatter",
         "visible": true,
         "x": {
          "bdata": "7FG4HoXrBUAGXlnglQUGQCBq+qGmHwZAOnabY7c5BkBUgjwlyFMGQG6O3ebYbQZAiJp+qOmHBkCiph9q+qEGQLyywCsLvAZA175h7RvWBkDxygKvLPAGQAvXo3A9CgdAJeNEMk4kB0A/7+XzXj4HQFn7hrVvWAdAcwcod4ByB0CNE8k4kYwHQKcfavqhpgdAwSsLvLLAB0DbN6x9w9oHQPVDTT/U9AdAD1DuAOUOCEApXI/C9SgIQERoMIQGQwhAXnTRRRddCEB4gHIHKHcIQJKME8k4kQhArJi0ikmrCEDGpFVMWsUIQOCw9g1r3whA+ryXz3v5CEAUyTiRjBMJQC7V2VKdLQlASOF6FK5HCUBi7RvWvmEJQHz5vJfPewlAlgVeWeCVCUCwEf8a8a8JQModoNwByglA5ClBnhLkCUD+NeJfI/4JQBhCgyE0GApAMk4k40QyCkBNWsWkVUwKQGdmZmZmZgpAgXIHKHeACkCbfqjph5oKQLWKSauYtApAz5bqbKnOCkDpoosuuugKQAOvLPDKAgtAHbvNsdscC0A3x25z7DYLQFHTDzX9UAtAbN+w9g1rC0CG61G4HoULQKD38nkvnwtAugOUO0C5C0DUDzX9UNMLQO4b1r5h7QtACCh3gHIHDEAiNBhCgyEMQDxAuQOUOwxAVkxaxaRVDEBwWPuGtW8MQIpknEjGiQxApHA9CtejDEC+fN7L570MQNiIf4341wxA8pQgTwnyDEAMocEQGgwNQCatYtIqJg1AQLkDlDtADUBaxaRVTFoNQHTRRRdddA1Aj93m2G2ODUCp6YeafqgNQMP1KFyPwg1A3QHKHaDcDUD3DWvfsPYNQBEaDKHBEA5AKyatYtIqDkBFMk4k40QOQF8+7+XzXg5AeUqQpwR5DkCUVjFpFZMOQK5i0iomrQ5AyG5z7DbHDkDiehSuR+EOQPyGtW9Y+w5AFpNWMWkVD0Awn/fyeS8PQEqrmLSKSQ9AZLc5dptjD0B+w9o3rH0PQJjPe/m8lw9Astscu82xD0DM57183ssPQObzXj7v5Q9AAAAAAAAAEEA=",
          "dtype": "f8"
         },
         "y": {
          "bdata": "bV9+txeu/0AaMW/DC9H/QMgCYM//8/9AOmqo7XkLAEER06Dz8xwAQec7mfltLgBBvqSR/+c/AEGVDYoFYlEAQWt2ggvcYgBBQt96EVZ0AEEZSHMX0IUAQfCwax1KlwBBxhlkI8SoAEGdglwpProAQXPrVC+4ywBBSlRNNTLdAEEhvUU7rO4AQfclPkEmAAFBzo42R6ARAUGk9y5NGiMBQXtgJ1OUNAFBUckfWQ5GAUEoMhhfiFcBQf+aEGUCaQFB1gMJa3x6AUGsbAFx9osBQYPV+XZwnQFBWT7yfOquAUEwp+qCZMABQQcQ44je0QFB3XjbjljjAUG04dOU0vQBQYpKzJpMBgJBYbPEoMYXAkE4HL2mQCkCQQ6Ftay6OgJB5e2tsjRMAkG7Vqa4rl0CQZK/nr4obwJBaSiXxKKAAkE/kY/KHJICQRb6h9CWowJB7GKA1hC1AkHEy3jcisYCQZo0ceIE2AJBcZ1p6H7pAkFHBmLu+PoCQR5vWvRyDANB9ddS+uwdA0HLQEsAZy8DQaKpQwbhQANBeBI8DFtSA0FPezQS1WMDQSbkLBhPdQNB/UwlHsmGA0HTtR0kQ5gDQaoeFiq9qQNBgYcOMDe7A0FX8AY2scwDQS5Z/zsr3gNBBML3QaXvA0HbKvBHHwEEQbKT6E2ZEgRBiPzgUxMkBEFfZdlZjTUEQTXO0V8HRwRBDDfKZYFYBEHjn8Jr+2kEQbkIu3F1ewRBkHGzd++MBEFm2qt9aZ4EQT1DpIPjrwRBFKyciV3BBEHqFJWP19IEQcF9jZVR5ARBmOaFm8v1BEFvT36hRQcFQUW4dqe/GAVBHCFvrTkqBUHyiWezszsFQcnyX7ktTQVBoFtYv6deBUF2xFDFIXAFQU0tScubgQVBI5ZB0RWTBUH7/jnXj6QFQdFnMt0JtgVBqNAq44PHBUF+OSPp/dgFQVWiG+936gVBLAsU9fH7BUECdAz7aw0GQdncBAHmHgZBr0X9BmAwBkGGrvUM2kEGQV0X7hJUUwZBM4DmGM5kBkEK6d4eSHYGQeBR1yTChwZBt7rPKjyZBkE=",
          "dtype": "f8"
         }
        },
        {
         "line": {
          "color": "black",
          "dash": "dash"
         },
         "mode": "lines",
         "name": "Population Average",
         "type": "scatter",
         "visible": false,
         "x": {
          "bdata": "AAAAAAAAAABGF1100UW3P0YXXXTRRcc/dNFFF1100T9GF1100UXXPxhddNFFF90/dNFFF1104T9ddNFFF13kP0YXXXTRRec/L7rooosu6j8YXXTRRRftPwAAAAAAAPA/dNFFF1108T/poosuuujyP1100UUXXfQ/0kUXXXTR9T9GF1100UX3P7rooosuuvg/L7rooosu+j+jiy666KL7PxhddNFFF/0/jC666KKL/j8AAAAAAAAAQLrooosuugBAdNFFF110AUAvuuiiiy4CQOmiiy666AJAo4suuuiiA0BddNFFF10EQBdddNFFFwVA0kUXXXTRBUCMLrrooosGQEYXXXTRRQdAAAAAAAAACEC66KKLLroIQHXRRRdddAlAL7rooosuCkDpoosuuugKQKOLLrroogtAXXTRRRddDEAYXXTRRRcNQNJFF1100Q1AjC666KKLDkBGF1100UUPQAAAAAAAABBAXXTRRRddEEC66KKLLroQQBdddNFFFxFAdNFFF110EUDSRRdddNERQC+66KKLLhJAjC666KKLEkDpoosuuugSQEYXXXTRRRNAo4suuuiiE0AAAAAAAAAUQF100UUXXRRAuuiiiy66FEAXXXTRRRcVQHXRRRdddBVA0kUXXXTRFUAvuuiiiy4WQIwuuuiiixZA6aKLLrroFkBGF1100UUXQKOLLrroohdAAAAAAAAAGEBddNFFF10YQLrooosuuhhAF1100UUXGUB10UUXXXQZQNJFF1100RlAL7rooosuGkCMLrrooosaQOmiiy666BpARhdddNFFG0Cjiy666KIbQAAAAAAAABxAXXTRRRddHEC66KKLLrocQBhddNFFFx1AddFFF110HUDSRRdddNEdQC+66KKLLh5AjC666KKLHkDpoosuuugeQEYXXXTRRR9Ao4suuuiiH0AAAAAAAAAgQC+66KKLLiBAXXTRRRddIECMLrrooosgQLrooosuuiBA6aKLLrroIEAXXXTRRRchQEYXXXTRRSFAdNFFF110IUCjiy666KIhQNJFF1100SFAAAAAAAAAIkA=",
          "dtype": "f8"
         },
         "y": {
          "bdata": "DLe7ukWa/0CwBWo4LMv/QFRUGLYS/P9AfFHjmXwWAEHOeLrY7y4AQSCgkRdjRwBBcsdoVtZfAEHE7j+VSXgAQRYWF9S8kABBaD3uEjCpAEG6ZMVRo8EAQQyMnJAW2gBBXrNzz4nyAEGw2koO/QoBQQICIk1wIwFBVCn5i+M7AUGmUNDKVlQBQfh3pwnKbAFBSp9+SD2FAUGcxlWHsJ0BQe7tLMYjtgFBQBUEBZfOAUGSPNtDCucBQeRjsoJ9/wFBNouJwfAXAkGJsmAAZDACQdvZNz/XSAJBLQEPfkphAkF/KOa8vXkCQdFPvfswkgJBI3eUOqSqAkF1nmt5F8MCQcfFQriK2wJBGe0Z9/3zAkFrFPE1cQwDQb07yHTkJANBD2Ofs1c9A0FhinbyylUDQbOxTTE+bgNBBdkkcLGGA0FXAPyuJJ8DQakn0+2XtwNB+06qLAvQA0FNdoFrfugDQZ+dWKrxAARB8cQv6WQZBEFD7AYo2DEEQZUT3mZLSgRB5zq1pb5iBEE5YozkMXsEQYuJYyOlkwRB3bA6YhisBEEv2BGhi8QEQYH/6N/+3ARB0ybAHnL1BEElTpdd5Q0FQXd1bpxYJgVByZxF28s+BUEbxBwaP1cFQW7r81iybwVBwBLLlyWIBUESOqLWmKAFQWRheRUMuQVBtohQVH/RBUEIsCeT8ukFQVrX/tFlAgZBrP7VENkaBkH+Ja1PTDMGQVBNhI6/SwZBonRbzTJkBkH0mzIMpnwGQUbDCUsZlQZBmOrgiYytBkHqEbjI/8UGQTw5jwdz3gZBjmBmRub2BkHghz2FWQ8HQTKvFMTMJwdBhNbrAkBAB0HW/cJBs1gHQSglmoAmcQdBekxxv5mJB0HMc0j+DKIHQR6bHz2AugdBcML2e/PSB0HC6c26ZusHQRQRpfnZAwhBZjh8OE0cCEG4X1N3wDQIQQqHKrYzTQhBXK4B9aZlCEGu1dgzGn4IQQD9r3KNlghBUiSHsQCvCEGkS17wc8cIQfZyNS/n3whBSJoMblr4CEGaweOszRAJQezouutAKQlBPhCSKrRBCUE=",
          "dtype": "f8"
         }
        },
        {
         "mode": "lines",
         "name": "San Jose State",
         "opacity": 0.6,
         "type": "scatter",
         "visible": false,
         "x": {
          "bdata": "AAAAAAAAAABGF1100UW3P0YXXXTRRcc/dNFFF1100T9GF1100UXXPxhddNFFF90/dNFFF1104T9ddNFFF13kP0YXXXTRRec/L7rooosu6j8YXXTRRRftPwAAAAAAAPA/dNFFF1108T/poosuuujyP1100UUXXfQ/0kUXXXTR9T9GF1100UX3P7rooosuuvg/L7rooosu+j+jiy666KL7PxhddNFFF/0/jC666KKL/j8AAAAAAAAAQLrooosuugBAdNFFF110AUAvuuiiiy4CQOmiiy666AJAo4suuuiiA0BddNFFF10EQBdddNFFFwVA0kUXXXTRBUCMLrrooosGQEYXXXTRRQdAAAAAAAAACEC66KKLLroIQHXRRRdddAlAL7rooosuCkDpoosuuugKQKOLLrroogtAXXTRRRddDEAYXXTRRRcNQNJFF1100Q1AjC666KKLDkBGF1100UUPQAAAAAAAABBAXXTRRRddEEC66KKLLroQQBdddNFFFxFAdNFFF110EUDSRRdddNERQC+66KKLLhJAjC666KKLEkDpoosuuugSQEYXXXTRRRNAo4suuuiiE0AAAAAAAAAUQF100UUXXRRAuuiiiy66FEAXXXTRRRcVQHXRRRdddBVA0kUXXXTRFUAvuuiiiy4WQIwuuuiiixZA6aKLLrroFkBGF1100UUXQKOLLrroohdAAAAAAAAAGEBddNFFF10YQLrooosuuhhAF1100UUXGUB10UUXXXQZQNJFF1100RlAL7rooosuGkCMLrrooosaQOmiiy666BpARhdddNFFG0Cjiy666KIbQAAAAAAAABxAXXTRRRddHEC66KKLLrocQBhddNFFFx1AddFFF110HUDSRRdddNEdQC+66KKLLh5AjC666KKLHkDpoosuuugeQEYXXXTRRR9Ao4suuuiiH0AAAAAAAAAgQC+66KKLLiBAXXTRRRddIECMLrrooosgQLrooosuuiBA6aKLLrroIEAXXXTRRRchQEYXXXTRRSFAdNFFF110IUCjiy666KIhQNJFF1100SFAAAAAAAAAIkA=",
          "dtype": "f8"
         },
         "y": {
          "bdata": "+JwUpw3M+kBUWJQnuO76QK8TFKhiEftAC8+TKA00+0BmihOpt1b7QMJFkylieftAHgETqgyc+0B5vJIqt777QNV3Eqth4ftAMDOSKwwE/ECM7hGstib8QOipkSxhSfxAQ2URrQts/ECfIJEtto78QPrbEK5gsfxAVpeQLgvU/ECyUhCvtfb8QA0OkC9gGf1AackPsAo8/UDEhI8wtV79QCBAD7Ffgf1AfPuOMQqk/UDXtg6ytMb9QDNyjjJf6f1Aji0OswkM/kDq6I0ztC7+QEakDbReUf5AoV+NNAl0/kD9Gg21s5b+QFjWjDVeuf5AtJEMtgjc/kAQTYw2s/7+QGsIDLddIf9Ax8OLNwhE/0Aifwu4smb/QH46izhdif9A2vUKuQes/0A1sYo5ss7/QJFsCrpc8f9A9hNFnQMKAEGk8YTdWBsAQVLPxB2uLABBAK0EXgM+AEGuikSeWE8AQVtohN6tYABBCUbEHgNyAEG3IwRfWIMAQWUBRJ+tlABBEt+D3wKmAEHAvMMfWLcAQW6aA2CtyABBHHhDoALaAEHKVYPgV+sAQXgzwyCt/ABBJREDYQIOAUHT7kKhVx8BQYHMguGsMAFBL6rCIQJCAUHchwJiV1MBQYplQqKsZAFBOEOC4gF2AUHmIMIiV4cBQZT+AWOsmAFBQtxBowGqAUHvuYHjVrsBQZ2XwSOszAFBS3UBZAHeAUH5UkGkVu8BQaYwgeSrAAJBVA7BJAESAkEC7ABlViMCQbDJQKWrNAJBXqeA5QBGAkEMhcAlVlcCQbliAGaraAJBZ0BApgB6AkEVHoDmVYsCQcP7vyarnAJBcNn/ZgCuAkEetz+nVb8CQcyUf+eq0AJBenK/JwDiAkEoUP9nVfMCQdYtP6iqBANBgwt/6P8VA0Ex6b4oVScDQd/G/miqOANBjaQ+qf9JA0E6gn7pVFsDQehfvimqbANBlj3+af99A0FEGz6qVI8DQfL4feqpoANBoNa9Kv+xA0FNtP1qVMMDQfuRPaup1ANBqW996/7lA0FXTb0rVPcDQQUr/WupCARBsgg9rP4ZBEE=",
          "dtype": "f8"
         }
        },
        {
         "mode": "lines",
         "name": "Stanford",
         "opacity": 0.6,
         "type": "scatter",
         "visible": false,
         "x": {
          "bdata": "AAAAAAAAAABGF1100UW3P0YXXXTRRcc/dNFFF1100T9GF1100UXXPxhddNFFF90/dNFFF1104T9ddNFFF13kP0YXXXTRRec/L7rooosu6j8YXXTRRRftPwAAAAAAAPA/dNFFF1108T/poosuuujyP1100UUXXfQ/0kUXXXTR9T9GF1100UX3P7rooosuuvg/L7rooosu+j+jiy666KL7PxhddNFFF/0/jC666KKL/j8AAAAAAAAAQLrooosuugBAdNFFF110AUAvuuiiiy4CQOmiiy666AJAo4suuuiiA0BddNFFF10EQBdddNFFFwVA0kUXXXTRBUCMLrrooosGQEYXXXTRRQdAAAAAAAAACEC66KKLLroIQHXRRRdddAlAL7rooosuCkDpoosuuugKQKOLLrroogtAXXTRRRddDEAYXXTRRRcNQNJFF1100Q1AjC666KKLDkBGF1100UUPQAAAAAAAABBAXXTRRRddEEC66KKLLroQQBdddNFFFxFAdNFFF110EUDSRRdddNERQC+66KKLLhJAjC666KKLEkDpoosuuugSQEYXXXTRRRNAo4suuuiiE0AAAAAAAAAUQF100UUXXRRAuuiiiy66FEAXXXTRRRcVQHXRRRdddBVA0kUXXXTRFUAvuuiiiy4WQIwuuuiiixZA6aKLLrroFkBGF1100UUXQKOLLrroohdAAAAAAAAAGEBddNFFF10YQLrooosuuhhAF1100UUXGUB10UUXXXQZQNJFF1100RlAL7rooosuGkCMLrrooosaQOmiiy666BpARhdddNFFG0Cjiy666KIbQAAAAAAAABxAXXTRRRddHEC66KKLLrocQBhddNFFFx1AddFFF110HUDSRRdddNEdQC+66KKLLh5AjC666KKLHkDpoosuuugeQEYXXXTRRR9Ao4suuuiiH0AAAAAAAAAgQC+66KKLLiBAXXTRRRddIECMLrrooosgQLrooosuuiBA6aKLLrroIEAXXXTRRRchQEYXXXTRRSFAdNFFF110IUCjiy666KIhQNJFF1100SFAAAAAAAAAIkA=",
          "dtype": "f8"
         },
         "y": {
          "bdata": "EPmO4qfg/kCfGcbqSQ//QC46/fLrPf9Avlo0+41s/0BNe2sDMJv/QNybogvSyf9Aa7zZE3T4/0B9bggOixMAQcX+IxLcKgBBDI8/Fi1CAEFUH1saflkAQZyvdh7PcABB4z+SIiCIAEEr0K0mcZ8AQXJgySrCtgBBuvDkLhPOAEECgQAzZOUAQUkRHDe1/ABBkaE3OwYUAUHYMVM/VysBQSDCbkOoQgFBaFKKR/lZAUGv4qVLSnEBQfdywU+biAFBPgPdU+yfAUGGk/hXPbcBQc4jFFyOzgFBFbQvYN/lAUFdREtkMP0BQaTUZmiBFAJB7GSCbNIrAkE09Z1wI0MCQXuFuXR0WgJBwxXVeMVxAkEKpvB8FokCQVI2DIFnoAJBmsYnhbi3AkHhVkOJCc8CQSnnXo1a5gJBcHd6kav9AkG4B5aV/BQDQQCYsZlNLANBRyjNnZ5DA0GPuOih71oDQdZIBKZAcgNBHtkfqpGJA0FmaTuu4qADQa35VrIzuANB9YlytoTPA0E9Go661eYDQYSqqb4m/gNBzDrFwncVBEEUy+DGyCwEQVtb/MoZRARBousXz2pbBEHqezPTu3IEQTIMT9cMigRBeZxq212hBEHBLIbfrrgEQQm9oeP/zwRBUE2951DnBEGY3djrof4EQeBt9O/yFQVBJ/4P9EMtBUFujiv4lEQFQbYeR/zlWwVB/q5iADdzBUFFP34EiIoFQY3PmQjZoQVB1F+1DCq5BUEc8NAQe9AFQWSA7BTM5wVBrBAIGR3/BUHzoCMdbhYGQTsxPyG/LQZBgsFaJRBFBkHKUXYpYVwGQRLikS2ycwZBWXKtMQOLBkGgAsk1VKIGQeiS5DmluQZBMCMAPvbQBkF4sxtCR+gGQb9DN0aY/wZBB9RSSukWB0FOZG5OOi4HQZb0iVKLRQdB3oSlVtxcB0ElFcFaLXQHQW2l3F5+iwdBtDX4Ys+iB0H8xRNnILoHQURWL2tx0QdBi+ZKb8LoB0HSdmZzEwAIQRoHgndkFwhBYpede7UuCEGqJ7l/BkYIQfK31INXXQhBOEjwh6h0CEE=",
          "dtype": "f8"
         }
        },
        {
         "mode": "lines",
         "name": "UC Berkeley",
         "opacity": 0.6,
         "type": "scatter",
         "visible": false,
         "x": {
          "bdata": "AAAAAAAAAABGF1100UW3P0YXXXTRRcc/dNFFF1100T9GF1100UXXPxhddNFFF90/dNFFF1104T9ddNFFF13kP0YXXXTRRec/L7rooosu6j8YXXTRRRftPwAAAAAAAPA/dNFFF1108T/poosuuujyP1100UUXXfQ/0kUXXXTR9T9GF1100UX3P7rooosuuvg/L7rooosu+j+jiy666KL7PxhddNFFF/0/jC666KKL/j8AAAAAAAAAQLrooosuugBAdNFFF110AUAvuuiiiy4CQOmiiy666AJAo4suuuiiA0BddNFFF10EQBdddNFFFwVA0kUXXXTRBUCMLrrooosGQEYXXXTRRQdAAAAAAAAACEC66KKLLroIQHXRRRdddAlAL7rooosuCkDpoosuuugKQKOLLrroogtAXXTRRRddDEAYXXTRRRcNQNJFF1100Q1AjC666KKLDkBGF1100UUPQAAAAAAAABBAXXTRRRddEEC66KKLLroQQBdddNFFFxFAdNFFF110EUDSRRdddNERQC+66KKLLhJAjC666KKLEkDpoosuuugSQEYXXXTRRRNAo4suuuiiE0AAAAAAAAAUQF100UUXXRRAuuiiiy66FEAXXXTRRRcVQHXRRRdddBVA0kUXXXTRFUAvuuiiiy4WQIwuuuiiixZA6aKLLrroFkBGF1100UUXQKOLLrroohdAAAAAAAAAGEBddNFFF10YQLrooosuuhhAF1100UUXGUB10UUXXXQZQNJFF1100RlAL7rooosuGkCMLrrooosaQOmiiy666BpARhdddNFFG0Cjiy666KIbQAAAAAAAABxAXXTRRRddHEC66KKLLrocQBhddNFFFx1AddFFF110HUDSRRdddNEdQC+66KKLLh5AjC666KKLHkDpoosuuugeQEYXXXTRRR9Ao4suuuiiH0AAAAAAAAAgQC+66KKLLiBAXXTRRRddIECMLrrooosgQLrooosuuiBA6aKLLrroIEAXXXTRRRchQEYXXXTRRSFAdNFFF110IUCjiy666KIhQNJFF1100SFAAAAAAAAAIkA=",
          "dtype": "f8"
         },
         "y": {
          "bdata": "T+7HNeJCAEGIfFMEvFwAQcIK39KVdgBB+5hqoW+QAEE0J/ZvSaoAQW61gT4jxABBp0MNDf3dAEHg0Zjb1vcAQRlgJKqwEQFBU+6veIorAUGMfDtHZEUBQcUKxxU+XwFB/5hS5Bd5AUE4J96y8ZIBQXG1aYHLrAFBq0P1T6XGAUHk0YAef+ABQR1gDO1Y+gFBV+6XuzIUAkGQfCOKDC4CQckKr1jmRwJBApk6J8BhAkE8J8b1mXsCQXW1UcRzlQJBrkPdkk2vAkHo0WhhJ8kCQSFg9C8B4wJBWu5//tr8AkGUfAvNtBYDQc0Kl5uOMANBBpkiamhKA0FAJ644QmQDQXm1OQccfgNBskPF1fWXA0Hr0VCkz7EDQSVg3HKpywNBXu5nQYPlA0GXfPMPXf8DQdEKf942GQRBCpkKrRAzBEFDJ5Z76kwEQX21IUrEZgRBtkOtGJ6ABEHv0Tjnd5oEQShgxLVRtARBYu5PhCvOBEGbfNtSBegEQdQKZyHfAQVBDpny77gbBUFHJ36+kjUFQYC1CY1sTwVBukOVW0ZpBUHz0SAqIIMFQSxgrPj5nAVBZu43x9O2BUGffMOVrdAFQdgKT2SH6gVBEpnaMmEEBkFLJ2YBOx4GQYS18c8UOAZBvkN9nu5RBkH30QhtyGsGQTBglDuihQZBau4fCnyfBkGjfKvYVbkGQdwKN6cv0wZBFZnCdQntBkFOJ05E4wYHQYi12RK9IAdBwUNl4ZY6B0H70fCvcFQHQTRgfH5KbgdBbe4HTSSIB0GmfJMb/qEHQeAKH+rXuwdBGZmquLHVB0FSJzaHi+8HQYy1wVVlCQhBxUNNJD8jCEH+0djyGD0IQThgZMHyVghBce7vj8xwCEGqfHtepooIQeQKBy2ApAhBHZmS+1m+CEFWJx7KM9gIQZC1qZgN8ghByEM1Z+cLCUEC0sA1wSUJQTxgTASbPwlBdO7X0nRZCUGufGOhTnMJQecK728ojQlBIJl6PgKnCUFaJwYN3MAJQZO1kdu12glBzEMdqo/0CUEG0qh4aQ4KQUBgNEdDKApBeO6/FR1CCkE=",
          "dtype": "f8"
         }
        },
        {
         "mode": "lines",
         "name": "UC San Diego",
         "opacity": 0.6,
         "type": "scatter",
         "visible": false,
         "x": {
          "bdata": "AAAAAAAAAABGF1100UW3P0YXXXTRRcc/dNFFF1100T9GF1100UXXPxhddNFFF90/dNFFF1104T9ddNFFF13kP0YXXXTRRec/L7rooosu6j8YXXTRRRftPwAAAAAAAPA/dNFFF1108T/poosuuujyP1100UUXXfQ/0kUXXXTR9T9GF1100UX3P7rooosuuvg/L7rooosu+j+jiy666KL7PxhddNFFF/0/jC666KKL/j8AAAAAAAAAQLrooosuugBAdNFFF110AUAvuuiiiy4CQOmiiy666AJAo4suuuiiA0BddNFFF10EQBdddNFFFwVA0kUXXXTRBUCMLrrooosGQEYXXXTRRQdAAAAAAAAACEC66KKLLroIQHXRRRdddAlAL7rooosuCkDpoosuuugKQKOLLrroogtAXXTRRRddDEAYXXTRRRcNQNJFF1100Q1AjC666KKLDkBGF1100UUPQAAAAAAAABBAXXTRRRddEEC66KKLLroQQBdddNFFFxFAdNFFF110EUDSRRdddNERQC+66KKLLhJAjC666KKLEkDpoosuuugSQEYXXXTRRRNAo4suuuiiE0AAAAAAAAAUQF100UUXXRRAuuiiiy66FEAXXXTRRRcVQHXRRRdddBVA0kUXXXTRFUAvuuiiiy4WQIwuuuiiixZA6aKLLrroFkBGF1100UUXQKOLLrroohdAAAAAAAAAGEBddNFFF10YQLrooosuuhhAF1100UUXGUB10UUXXXQZQNJFF1100RlAL7rooosuGkCMLrrooosaQOmiiy666BpARhdddNFFG0Cjiy666KIbQAAAAAAAABxAXXTRRRddHEC66KKLLrocQBhddNFFFx1AddFFF110HUDSRRdddNEdQC+66KKLLh5AjC666KKLHkDpoosuuugeQEYXXXTRRR9Ao4suuuiiH0AAAAAAAAAgQC+66KKLLiBAXXTRRRddIECMLrrooosgQLrooosuuiBA6aKLLrroIEAXXXTRRRchQEYXXXTRRSFAdNFFF110IUCjiy666KIhQNJFF1100SFAAAAAAAAAIkA=",
          "dtype": "f8"
         },
         "y": {
          "bdata": "pRBQKpr6AUFZqzEphRkCQQ1GEyhwOAJBwuD0JltXAkF2e9YlRnYCQSoWuCQxlQJB3rCZIxy0AkGTS3siB9MCQUfmXCHy8QJB+4A+IN0QA0GvGyAfyC8DQWS2AR6zTgNBGFHjHJ5tA0HM68QbiYwDQYCGphp0qwNBNCGIGV/KA0Hpu2kYSukDQZ1WSxc1CARBUfEsFiAnBEEFjA4VC0YEQbom8BP2ZARBbsHREuGDBEEiXLMRzKIEQdb2lBC3wQRBipF2D6LgBEE/LFgOjf8EQfPGOQ14HgVBp2EbDGM9BUFb/PwKTlwFQRCX3gk5ewVBxDHACCSaBUF4zKEHD7kFQSxngwb61wVB4AFlBeX2BUGVnEYE0BUGQUk3KAO7NAZB/dEJAqZTBkGybOsAkXIGQWYHzf97kQZBGqKu/mawBkHOPJD9Uc8GQYLXcfw87gZBNnJT+ycNB0HrDDX6EiwHQZ+nFvn9SgdBU0L49+hpB0EI3dn204gHQbx3u/W+pwdBcBKd9KnGB0EkrX7zlOUHQdhHYPJ/BAhBjeJB8WojCEFBfSPwVUIIQfUXBe9AYQhBqbLm7SuACEFeTcjsFp8IQRLoqesBvghBxoKL6uzcCEF6HW3p1/sIQS64TujCGglB41Iw5605CUGX7RHmmFgJQUuI8+SDdwlBACPV426WCUG0vbbiWbUJQWhYmOFE1AlBHPN54C/zCUHQjVvfGhIKQYQoPd4FMQpBOMMe3fBPCkHtXQDc224KQaL44drGjQpBVpPD2bGsCkEKLqXYnMsKQb7IhteH6gpBcmNo1nIJC0Em/knVXSgLQdqYK9RIRwtBjjMN0zNmC0FDzu7RHoULQfho0NAJpAtBrAOyz/TCC0FgnpPO3+ELQRQ5dc3KAAxByNNWzLUfDEF8bjjLoD4MQTAJGsqLXQxB5aP7yHZ8DEGZPt3HYZsMQU7ZvsZMugxBAnSgxTfZDEG2DoLEIvgMQWqpY8MNFw1BHkRFwvg1DUHS3ibB41QNQYZ5CMDOcw1BOhTqvrmSDUHvrsu9pLENQaRJrbyP0A1BWOSOu3rvDUE=",
          "dtype": "f8"
         }
        },
        {
         "mode": "lines",
         "name": "UCLA",
         "opacity": 0.6,
         "type": "scatter",
         "visible": false,
         "x": {
          "bdata": "AAAAAAAAAABGF1100UW3P0YXXXTRRcc/dNFFF1100T9GF1100UXXPxhddNFFF90/dNFFF1104T9ddNFFF13kP0YXXXTRRec/L7rooosu6j8YXXTRRRftPwAAAAAAAPA/dNFFF1108T/poosuuujyP1100UUXXfQ/0kUXXXTR9T9GF1100UX3P7rooosuuvg/L7rooosu+j+jiy666KL7PxhddNFFF/0/jC666KKL/j8AAAAAAAAAQLrooosuugBAdNFFF110AUAvuuiiiy4CQOmiiy666AJAo4suuuiiA0BddNFFF10EQBdddNFFFwVA0kUXXXTRBUCMLrrooosGQEYXXXTRRQdAAAAAAAAACEC66KKLLroIQHXRRRdddAlAL7rooosuCkDpoosuuugKQKOLLrroogtAXXTRRRddDEAYXXTRRRcNQNJFF1100Q1AjC666KKLDkBGF1100UUPQAAAAAAAABBAXXTRRRddEEC66KKLLroQQBdddNFFFxFAdNFFF110EUDSRRdddNERQC+66KKLLhJAjC666KKLEkDpoosuuugSQEYXXXTRRRNAo4suuuiiE0AAAAAAAAAUQF100UUXXRRAuuiiiy66FEAXXXTRRRcVQHXRRRdddBVA0kUXXXTRFUAvuuiiiy4WQIwuuuiiixZA6aKLLrroFkBGF1100UUXQKOLLrroohdAAAAAAAAAGEBddNFFF10YQLrooosuuhhAF1100UUXGUB10UUXXXQZQNJFF1100RlAL7rooosuGkCMLrrooosaQOmiiy666BpARhdddNFFG0Cjiy666KIbQAAAAAAAABxAXXTRRRddHEC66KKLLrocQBhddNFFFx1AddFFF110HUDSRRdddNEdQC+66KKLLh5AjC666KKLHkDpoosuuugeQEYXXXTRRR9Ao4suuuiiH0AAAAAAAAAgQC+66KKLLiBAXXTRRRddIECMLrrooosgQLrooosuuiBA6aKLLrroIEAXXXTRRRchQEYXXXTRRSFAdNFFF110IUCjiy666KIhQNJFF1100SFAAAAAAAAAIkA=",
          "dtype": "f8"
         },
         "y": {
          "bdata": "qf7WW67b/0ALrVZWrAYAQcHawX6BHwBBdwgtp1Y4AEEtNpjPK1EAQeRjA/gAagBBmpFuINaCAEFQv9lIq5sAQQbtRHGAtABBvRqwmVXNAEFzSBvCKuYAQSl2hur//gBB36PxEtUXAUGW0Vw7qjABQUz/x2N/SQFBAi0zjFRiAUG4Wp60KXsBQW6ICd3+kwFBJbZ0BdSsAUHb498tqcUBQZERS1Z+3gFBRz+2flP3AUH+bCGnKBACQbSajM/9KAJBasj399JBAkEg9mIgqFoCQdcjzkh9cwJBjVE5cVKMAkFDf6SZJ6UCQfmsD8L8vQJBsNp66tHWAkFmCOYSp+8CQRw2UTt8CANB0mO8Y1EhA0GIkSeMJjoDQT+/krT7UgNB9ez93NBrA0GrGmkFpoQDQWFI1C17nQNBGHY/VlC2A0HOo6p+Jc8DQYTRFaf65wNBOv+Az88ABEHwLOz3pBkEQadaVyB6MgRBXYjCSE9LBEETti1xJGQEQcrjmJn5fARBgBEEws6VBEE2P2/qo64EQexs2hJ5xwRBoppFO07gBEFZyLBjI/kEQQ/2G4z4EQVBxSOHtM0qBUF7UfLcokMFQTJ/XQV4XAVB6KzILU11BUGe2jNWIo4FQVQIn373pgVBCjYKp8y/BUHBY3XPodgFQXeR4Pd28QVBLb9LIEwKBkHk7LZIISMGQZoaInH2OwZBUEiNmctUBkEGdvjBoG0GQbyjY+p1hgZBctHOEkufBkEp/zk7ILgGQd8spWP10AZBlloQjMrpBkFMiHu0nwIHQQK25tx0GwdBuONRBUo0B0FuEb0tH00HQSQ/KFb0ZQdB22yTfsl+B0GRmv6mnpcHQUfIac9zsAdB/vXU90jJB0G0I0AgHuIHQWpRq0jz+gdBIH8WccgTCEHWrIGZnSwIQYza7MFyRQhBQwhY6kdeCEH5NcMSHXcIQbBjLjvyjwhBZpGZY8eoCEEcvwSMnMEIQdLsb7Rx2ghBiBrb3EbzCEE+SEYFHAwJQfR1sS3xJAlBqqMcVsY9CUFh0Yd+m1YJQRj/8qZwbwlBzixez0WICUE=",
          "dtype": "f8"
         }
        },
        {
         "line": {
          "color": "black",
          "dash": "dash"
         },
         "mode": "lines",
         "name": "Population Average",
         "type": "scatter",
         "visible": false,
         "x": {
          "bdata": "AAAAAAAAAABGF1100UW3P0YXXXTRRcc/dNFFF1100T9GF1100UXXPxhddNFFF90/dNFFF1104T9ddNFFF13kP0YXXXTRRec/L7rooosu6j8YXXTRRRftPwAAAAAAAPA/dNFFF1108T/poosuuujyP1100UUXXfQ/0kUXXXTR9T9GF1100UX3P7rooosuuvg/L7rooosu+j+jiy666KL7PxhddNFFF/0/jC666KKL/j8AAAAAAAAAQLrooosuugBAdNFFF110AUAvuuiiiy4CQOmiiy666AJAo4suuuiiA0BddNFFF10EQBdddNFFFwVA0kUXXXTRBUCMLrrooosGQEYXXXTRRQdAAAAAAAAACEC66KKLLroIQHXRRRdddAlAL7rooosuCkDpoosuuugKQKOLLrroogtAXXTRRRddDEAYXXTRRRcNQNJFF1100Q1AjC666KKLDkBGF1100UUPQAAAAAAAABBAXXTRRRddEEC66KKLLroQQBdddNFFFxFAdNFFF110EUDSRRdddNERQC+66KKLLhJAjC666KKLEkDpoosuuugSQEYXXXTRRRNAo4suuuiiE0AAAAAAAAAUQF100UUXXRRAuuiiiy66FEAXXXTRRRcVQHXRRRdddBVA0kUXXXTRFUAvuuiiiy4WQIwuuuiiixZA6aKLLrroFkBGF1100UUXQKOLLrroohdAAAAAAAAAGEBddNFFF10YQLrooosuuhhAF1100UUXGUB10UUXXXQZQNJFF1100RlAL7rooosuGkCMLrrooosaQOmiiy666BpARhdddNFFG0Cjiy666KIbQAAAAAAAABxAXXTRRRddHEC66KKLLrocQBhddNFFFx1AddFFF110HUDSRRdddNEdQC+66KKLLh5AjC666KKLHkDpoosuuugeQEYXXXTRRR9Ao4suuuiiH0AAAAAAAAAgQC+66KKLLiBAXXTRRRddIECMLrrooosgQLrooosuuiBA6aKLLrroIEAXXXTRRRchQEYXXXTRRSFAdNFFF110IUCjiy666KIhQNJFF1100SFAAAAAAAAAIkA=",
          "dtype": "f8"
         },
         "y": {
          "bdata": "hzeP9PYfAkGXVYFCQTECQadzc5CLQgJBtpFl3tVTAkHGr1csIGUCQdbNSXpqdgJB5us7yLSHAkH2CS4W/5gCQQUoIGRJqgJBFUYSspO7AkElZAQA3swCQTWC9k0o3gJBRaDom3LvAkFUvtrpvAADQWTczDcHEgNBdPq+hVEjA0GEGLHTmzQDQZQ2oyHmRQNBo1SVbzBXA0Gzcoe9emgDQcOQeQvFeQNB065rWQ+LA0HjzF2nWZwDQfLqT/WjrQNBAglCQ+6+A0ESJzSRONADQSJFJt+C4QNBMmMYLc3yA0FBgQp7FwQEQVGf/MhhFQRBYb3uFqwmBEFx2+Bk9jcEQYH50rJASQRBkBfFAItaBEGgNbdO1WsEQbBTqZwffQRBwHGb6mmOBEHQj404tJ8EQeCtf4b+sARB78tx1EjCBEH/6WMik9MEQQ8IVnDd5ARBHyZIvif2BEEuRDoMcgcFQT5iLFq8GAVBToAeqAYqBUFenhD2UDsFQW68AkSbTAVBfdr0keVdBUGN+ObfL28FQZ0W2S16gAVBrTTLe8SRBUG9Ur3JDqMFQcxwrxdZtAVB3I6hZaPFBUHsrJOz7dYFQfzKhQE46AVBDOl3T4L5BUEbB2qdzAoGQSslXOsWHAZBO0NOOWEtBkFLYUCHqz4GQVt/MtX1TwZBap0kI0BhBkF6uxZxinIGQYrZCL/UgwZBmvf6DB+VBkGqFe1aaaYGQboz36iztwZByVHR9v3IBkHZb8NESNoGQemNtZKS6wZB+aun4Nz8BkEIypkuJw4HQRjoi3xxHwdBKAZ+yrswB0E4JHAYBkIHQUhCYmZQUwdBWGBUtJpkB0FnfkYC5XUHQXecOFAvhwdBh7oqnnmYB0GX2Bzsw6kHQab2DjoOuwdBthQBiFjMB0HGMvPVot0HQdZQ5SPt7gdB5m7XcTcACEH2jMm/gREIQQaruw3MIghBFcmtWxY0CEEl55+pYEUIQTUFkveqVghBRCOERfVnCEFUQXaTP3kIQWRfaOGJighBdH1aL9SbCEGEm0x9Hq0IQZS5PstovghBo9cwGbPPCEE=",
          "dtype": "f8"
         }
        },
        {
         "mode": "lines",
         "name": "San Jose State",
         "opacity": 0.6,
         "type": "scatter",
         "visible": false,
         "x": {
          "bdata": "AAAAAAAAAABGF1100UW3P0YXXXTRRcc/dNFFF1100T9GF1100UXXPxhddNFFF90/dNFFF1104T9ddNFFF13kP0YXXXTRRec/L7rooosu6j8YXXTRRRftPwAAAAAAAPA/dNFFF1108T/poosuuujyP1100UUXXfQ/0kUXXXTR9T9GF1100UX3P7rooosuuvg/L7rooosu+j+jiy666KL7PxhddNFFF/0/jC666KKL/j8AAAAAAAAAQLrooosuugBAdNFFF110AUAvuuiiiy4CQOmiiy666AJAo4suuuiiA0BddNFFF10EQBdddNFFFwVA0kUXXXTRBUCMLrrooosGQEYXXXTRRQdAAAAAAAAACEC66KKLLroIQHXRRRdddAlAL7rooosuCkDpoosuuugKQKOLLrroogtAXXTRRRddDEAYXXTRRRcNQNJFF1100Q1AjC666KKLDkBGF1100UUPQAAAAAAAABBAXXTRRRddEEC66KKLLroQQBdddNFFFxFAdNFFF110EUDSRRdddNERQC+66KKLLhJAjC666KKLEkDpoosuuugSQEYXXXTRRRNAo4suuuiiE0AAAAAAAAAUQF100UUXXRRAuuiiiy66FEAXXXTRRRcVQHXRRRdddBVA0kUXXXTRFUAvuuiiiy4WQIwuuuiiixZA6aKLLrroFkBGF1100UUXQKOLLrroohdAAAAAAAAAGEBddNFFF10YQLrooosuuhhAF1100UUXGUB10UUXXXQZQNJFF1100RlAL7rooosuGkCMLrrooosaQOmiiy666BpARhdddNFFG0Cjiy666KIbQAAAAAAAABxAXXTRRRddHEC66KKLLrocQBhddNFFFx1AddFFF110HUDSRRdddNEdQC+66KKLLh5AjC666KKLHkDpoosuuugeQEYXXXTRRR9Ao4suuuiiH0AAAAAAAAAgQC+66KKLLiBAXXTRRRddIECMLrrooosgQLrooosuuiBA6aKLLrroIEAXXXTRRRchQEYXXXTRRSFAdNFFF110IUCjiy666KIhQNJFF1100SFAAAAAAAAAIkA=",
          "dtype": "f8"
         },
         "y": {
          "bdata": "kcJ+r+QuAEEFz+xyNToAQXrbWjaGRQBB7ufI+dZQAEFj9Da9J1wAQdcApYB4ZwBBTA0TRMlyAEHAGYEHGn4AQTUm78pqiQBBqTJdjruUAEEdP8tRDKAAQZJLORVdqwBBBlin2K22AEF7ZBWc/sEAQe9wg19PzQBBZH3xIqDYAEHYiV/m8OMAQU2WzalB7wBBwaI7bZL6AEE1r6kw4wUBQaq7F/QzEQFBHsiFt4QcAUGT1PN61ScBQQfhYT4mMwFBfO3PAXc+AUHw+T3Fx0kBQWUGrIgYVQFB2RIaTGlgAUFNH4gPumsBQcIr9tIKdwFBNjhklluCAUGrRNJZrI0BQR9RQB39mAFBlF2u4E2kAUEIahyknq8BQX12imfvugFB8YL4KkDGAUFlj2bukNEBQdqb1LHh3AFBTqhCdTLoAUHDtLA4g/MBQTfBHvzT/gFBrM2MvyQKAkEg2vqCdRUCQZXmaEbGIAJBCfPWCRcsAkF9/0TNZzcCQfILs5C4QgJBZhghVAlOAkHbJI8XWlkCQU8x/dqqZAJBxD1rnvtvAkE4StlhTHsCQa1WRyWdhgJBIWO16O2RAkGWbyOsPp0CQQp8kW+PqAJBfoj/MuCzAkHzlG32ML8CQWeh27mBygJB3K1JfdLVAkFQurdAI+ECQcXGJQR07AJBOdOTx8T3AkGu3wGLFQMDQSLsb05mDgNBlvjdEbcZA0ELBUzVByUDQX8RuphYMANB9B0oXKk7A0FoKpYf+kYDQd02BONKUgNBUUNypptdA0HGT+Bp7GgDQTpcTi09dANBrmi88I1/A0EjdSq03ooDQZeBmHcvlgNBDI4GO4ChA0GAmnT+0KwDQfWm4sEhuANBabNQhXLDA0Hev75Iw84DQVLMLAwU2gNBxtiaz2TlA0E75QiTtfADQa/xdlYG/ANBJP7kGVcHBEGYClPdpxIEQQ0XwaD4HQRBgSMvZEkpBEH2L50nmjQEQWo8C+vqPwRB3kh5rjtLBEFTVedxjFYEQcdhVTXdYQRBPG7D+C1tBEGwejG8fngEQSWHn3/PgwRBmZMNQyCPBEE=",
          "dtype": "f8"
         }
        },
        {
         "mode": "lines",
         "name": "Stanford",
         "opacity": 0.6,
         "type": "scatter",
         "visible": false,
         "x": {
          "bdata": "AAAAAAAAAABGF1100UW3P0YXXXTRRcc/dNFFF1100T9GF1100UXXPxhddNFFF90/dNFFF1104T9ddNFFF13kP0YXXXTRRec/L7rooosu6j8YXXTRRRftPwAAAAAAAPA/dNFFF1108T/poosuuujyP1100UUXXfQ/0kUXXXTR9T9GF1100UX3P7rooosuuvg/L7rooosu+j+jiy666KL7PxhddNFFF/0/jC666KKL/j8AAAAAAAAAQLrooosuugBAdNFFF110AUAvuuiiiy4CQOmiiy666AJAo4suuuiiA0BddNFFF10EQBdddNFFFwVA0kUXXXTRBUCMLrrooosGQEYXXXTRRQdAAAAAAAAACEC66KKLLroIQHXRRRdddAlAL7rooosuCkDpoosuuugKQKOLLrroogtAXXTRRRddDEAYXXTRRRcNQNJFF1100Q1AjC666KKLDkBGF1100UUPQAAAAAAAABBAXXTRRRddEEC66KKLLroQQBdddNFFFxFAdNFFF110EUDSRRdddNERQC+66KKLLhJAjC666KKLEkDpoosuuugSQEYXXXTRRRNAo4suuuiiE0AAAAAAAAAUQF100UUXXRRAuuiiiy66FEAXXXTRRRcVQHXRRRdddBVA0kUXXXTRFUAvuuiiiy4WQIwuuuiiixZA6aKLLrroFkBGF1100UUXQKOLLrroohdAAAAAAAAAGEBddNFFF10YQLrooosuuhhAF1100UUXGUB10UUXXXQZQNJFF1100RlAL7rooosuGkCMLrrooosaQOmiiy666BpARhdddNFFG0Cjiy666KIbQAAAAAAAABxAXXTRRRddHEC66KKLLrocQBhddNFFFx1AddFFF110HUDSRRdddNEdQC+66KKLLh5AjC666KKLHkDpoosuuugeQEYXXXTRRR9Ao4suuuiiH0AAAAAAAAAgQC+66KKLLiBAXXTRRRddIECMLrrooosgQLrooosuuiBA6aKLLrroIEAXXXTRRRchQEYXXXTRRSFAdNFFF110IUCjiy666KIhQNJFF1100SFAAAAAAAAAIkA=",
          "dtype": "f8"
         },
         "y": {
          "bdata": "3Y70MRe3AkF/Yz7T98QCQSA4iHTY0gJBwgzSFbngAkFk4Ru3me4CQQa2ZVh6/AJBp4qv+VoKA0FJX/maOxgDQeszQzwcJgNBjQiN3fwzA0Eu3dZ+3UEDQdCxICC+TwNBcoZqwZ5dA0ETW7Rif2sDQbUv/gNgeQNBVwRIpUCHA0H52JFGIZUDQZqt2+cBowNBPIIlieKwA0HeVm8qw74DQYArucujzANBIQADbYTaA0HD1EwOZegDQWWplq9F9gNBBn7gUCYEBEGoUiryBhIEQUondJPnHwRB7Pu9NMgtBEGN0AfWqDsEQS+lUXeJSQRB0XmbGGpXBEFzTuW5SmUEQRQjL1srcwRBtvd4/AuBBEFYzMKd7I4EQfqgDD/NnARBm3VW4K2qBEE9SqCBjrgEQd8e6iJvxgRBgPMzxE/UBEEiyH1lMOIEQcScxwYR8ARBZnERqPH9BEEHRltJ0gsFQakapeqyGQVBS+/ui5MnBUHswzgtdDUFQY6Ygs5UQwVBMG3MbzVRBUHSQRYRFl8FQXMWYLL2bAVBFeupU9d6BUG3v/P0t4gFQVmUPZaYlgVB+miHN3mkBUGcPdHYWbIFQT4SG3o6wAVB3+ZkGxvOBUGBu668+9sFQSOQ+F3c6QVBxWRC/7z3BUFmOYygnQUGQQgO1kF+EwZBquIf414hBkFMt2mEPy8GQe2LsyUgPQZBj2D9xgBLBkExNUdo4VgGQdIJkQnCZgZBdN7aqqJ0BkEWsyRMg4IGQbiHbu1jkAZBWVy4jkSeBkH7MAIwJawGQZ0FTNEFugZBPtqVcubHBkHgrt8Tx9UGQYKDKbWn4wZBJFhzVojxBkHGLL33aP8GQWcBB5lJDQdBCdZQOiobB0GrqprbCikHQUx/5HzrNgdB7lMuHsxEB0GQKHi/rFIHQTL9wWCNYAdB09ELAm5uB0F1plWjTnwHQRd7n0QvigdBuE/p5Q+YB0FaJDOH8KUHQfz4fCjRswdBns3GybHBB0E/ohBrks8HQeF2Wgxz3QdBg0ukrVPrB0EkIO5ONPkHQcb0N/AUBwhBaMmBkfUUCEE=",
          "dtype": "f8"
         }
        },
        {
         "mode": "lines",
         "name": "UC Berkeley",
         "opacity": 0.6,
         "type": "scatter",
         "visible": false,
         "x": {
          "bdata": "AAAAAAAAAABGF1100UW3P0YXXXTRRcc/dNFFF1100T9GF1100UXXPxhddNFFF90/dNFFF1104T9ddNFFF13kP0YXXXTRRec/L7rooosu6j8YXXTRRRftPwAAAAAAAPA/dNFFF1108T/poosuuujyP1100UUXXfQ/0kUXXXTR9T9GF1100UX3P7rooosuuvg/L7rooosu+j+jiy666KL7PxhddNFFF/0/jC666KKL/j8AAAAAAAAAQLrooosuugBAdNFFF110AUAvuuiiiy4CQOmiiy666AJAo4suuuiiA0BddNFFF10EQBdddNFFFwVA0kUXXXTRBUCMLrrooosGQEYXXXTRRQdAAAAAAAAACEC66KKLLroIQHXRRRdddAlAL7rooosuCkDpoosuuugKQKOLLrroogtAXXTRRRddDEAYXXTRRRcNQNJFF1100Q1AjC666KKLDkBGF1100UUPQAAAAAAAABBAXXTRRRddEEC66KKLLroQQBdddNFFFxFAdNFFF110EUDSRRdddNERQC+66KKLLhJAjC666KKLEkDpoosuuugSQEYXXXTRRRNAo4suuuiiE0AAAAAAAAAUQF100UUXXRRAuuiiiy66FEAXXXTRRRcVQHXRRRdddBVA0kUXXXTRFUAvuuiiiy4WQIwuuuiiixZA6aKLLrroFkBGF1100UUXQKOLLrroohdAAAAAAAAAGEBddNFFF10YQLrooosuuhhAF1100UUXGUB10UUXXXQZQNJFF1100RlAL7rooosuGkCMLrrooosaQOmiiy666BpARhdddNFFG0Cjiy666KIbQAAAAAAAABxAXXTRRRddHEC66KKLLrocQBhddNFFFx1AddFFF110HUDSRRdddNEdQC+66KKLLh5AjC666KKLHkDpoosuuugeQEYXXXTRRR9Ao4suuuiiH0AAAAAAAAAgQC+66KKLLiBAXXTRRRddIECMLrrooosgQLrooosuuiBA6aKLLrroIEAXXXTRRRchQEYXXXTRRSFAdNFFF110IUCjiy666KIhQNJFF1100SFAAAAAAAAAIkA=",
          "dtype": "f8"
         },
         "y": {
          "bdata": "96Lxojr+AUEV6DV1WxECQTQtekd8JAJBUnK+GZ03AkFxtwLsvUoCQY/8Rr7eXQJBrkGLkP9wAkHMhs9iIIQCQevLEzVBlwJBCRFYB2KqAkEnVpzZgr0CQUab4Kuj0AJBZOAkfsTjAkGDJWlQ5fYCQaFqrSIGCgNBwK/x9CYdA0He9DXHRzADQf05eploQwNBG3++a4lWA0E6xAI+qmkDQVgJRxDLfANBdk6L4uuPA0GVk8+0DKMDQbPYE4cttgNB0h1YWU7JA0HwYpwrb9wDQQ+o4P2P7wNBLe0k0LACBEFMMmmi0RUEQWp3rXTyKARBiLzxRhM8BEGnATYZNE8EQcVGeutUYgRB5Iu+vXV1BEEC0QKQlogEQSEWR2K3mwRBP1uLNNiuBEFeoM8G+cEEQXzlE9kZ1QRBmipYqzroBEG5b5x9W/sEQde04E98DgVB9vkkIp0hBUEUP2n0vTQFQTOErcbeRwVBUcnxmP9aBUFwDjZrIG4FQY5Tej1BgQVBrJi+D2KUBUHL3QLigqcFQekiR7SjugVBCGiLhsTNBUEmrc9Y5eAFQUXyEysG9AVBYzdY/SYHBkGCfJzPRxoGQaDB4KFoLQZBvgYldIlABkHdS2lGqlMGQfyQrRjLZgZBGtbx6ut5BkE4Gza9DI0GQVdgeo8toAZBdaW+YU6zBkGU6gI0b8YGQbIvRwaQ2QZB0HSL2LDsBkHvuc+q0f8GQQ3/E33yEgdBLERYTxMmB0FKiZwhNDkHQWnO4PNUTAdBhxMlxnVfB0GmWGmYlnIHQcSdrWq3hQdB4uLxPNiYB0EBKDYP+asHQR9teuEZvwdBPrK+szrSB0Fc9wKGW+UHQXs8R1h8+AdBmYGLKp0LCEG4xs/8vR4IQdYLFM/eMQhB9FBYof9ECEETlpxzIFgIQTLb4EVBawhBUCAlGGJ+CEFuZWnqgpEIQY2qrbyjpAhBq+/xjsS3CEHKNDZh5coIQeh5ejMG3ghBBr++BSfxCEElBAPYRwQJQURJR6poFwlBYo6LfIkqCUGA089Oqj0JQZ8YFCHLUAlBvV1Y8+tjCUE=",
          "dtype": "f8"
         }
        },
        {
         "mode": "lines",
         "name": "UC San Diego",
         "opacity": 0.6,
         "type": "scatter",
         "visible": false,
         "x": {
          "bdata": "AAAAAAAAAABGF1100UW3P0YXXXTRRcc/dNFFF1100T9GF1100UXXPxhddNFFF90/dNFFF1104T9ddNFFF13kP0YXXXTRRec/L7rooosu6j8YXXTRRRftPwAAAAAAAPA/dNFFF1108T/poosuuujyP1100UUXXfQ/0kUXXXTR9T9GF1100UX3P7rooosuuvg/L7rooosu+j+jiy666KL7PxhddNFFF/0/jC666KKL/j8AAAAAAAAAQLrooosuugBAdNFFF110AUAvuuiiiy4CQOmiiy666AJAo4suuuiiA0BddNFFF10EQBdddNFFFwVA0kUXXXTRBUCMLrrooosGQEYXXXTRRQdAAAAAAAAACEC66KKLLroIQHXRRRdddAlAL7rooosuCkDpoosuuugKQKOLLrroogtAXXTRRRddDEAYXXTRRRcNQNJFF1100Q1AjC666KKLDkBGF1100UUPQAAAAAAAABBAXXTRRRddEEC66KKLLroQQBdddNFFFxFAdNFFF110EUDSRRdddNERQC+66KKLLhJAjC666KKLEkDpoosuuugSQEYXXXTRRRNAo4suuuiiE0AAAAAAAAAUQF100UUXXRRAuuiiiy66FEAXXXTRRRcVQHXRRRdddBVA0kUXXXTRFUAvuuiiiy4WQIwuuuiiixZA6aKLLrroFkBGF1100UUXQKOLLrroohdAAAAAAAAAGEBddNFFF10YQLrooosuuhhAF1100UUXGUB10UUXXXQZQNJFF1100RlAL7rooosuGkCMLrrooosaQOmiiy666BpARhdddNFFG0Cjiy666KIbQAAAAAAAABxAXXTRRRddHEC66KKLLrocQBhddNFFFx1AddFFF110HUDSRRdddNEdQC+66KKLLh5AjC666KKLHkDpoosuuugeQEYXXXTRRR9Ao4suuuiiH0AAAAAAAAAgQC+66KKLLiBAXXTRRRddIECMLrrooosgQLrooosuuiBA6aKLLrroIEAXXXTRRRchQEYXXXTRRSFAdNFFF110IUCjiy666KIhQNJFF1100SFAAAAAAAAAIkA=",
          "dtype": "f8"
         },
         "y": {
          "bdata": "BdJo5bBNA0EkHALdc2UDQUJmm9Q2fQNBYbA0zPmUA0GA+s3DvKwDQZ9EZ7t/xANBvo4As0LcA0Hc2JmqBfQDQfsiM6LICwRBGm3MmYsjBEE5t2WRTjsEQVcB/4gRUwRBdkuYgNRqBEGVlTF4l4IEQbTfym9amgRB0ilkZx2yBEHxc/1e4MkEQRC+llaj4QRBLggwTmb5BEFNUslFKREFQWycYj3sKAVBi+b7NK9ABUGqMJUsclgFQch6LiQ1cAVB58THG/iHBUEGD2ETu58FQSRZ+gp+twVBQ6OTAkHPBUFi7Sz6A+cFQYE3xvHG/gVBoIFf6YkWBkG+y/jgTC4GQd0VktgPRgZB/F8r0NJdBkEaqsTHlXUGQTn0Xb9YjQZBWD73thulBkF3iJCu3rwGQZbSKaah1AZBtBzDnWTsBkHTZlyVJwQHQfKw9YzqGwdBEPuOhK0zB0EvRSh8cEsHQU6PwXMzYwdBbdlaa/Z6B0GMI/RiuZIHQaptjVp8qgdBybcmUj/CB0HoAcBJAtoHQQZMWUHF8QdBJZbyOIgJCEFE4IswSyEIQWMqJSgOOQhBgnS+H9FQCEGgvlcXlGgIQb8I8Q5XgAhB3lKKBhqYCEH8nCP+3K8IQRznvPWfxwhBOjFW7WLfCEFZe+/kJfcIQXjFiNzoDglBlg8i1KsmCUG1WbvLbj4JQdSjVMMxVglB8u3tuvRtCUEROIeyt4UJQTCCIKp6nQlBT8y5oT21CUFuFlOZAM0JQYxg7JDD5AlBq6qFiIb8CUHK9B6ASRQKQeg+uHcMLApBB4lRb89DCkEm0+pmklsKQUUdhF5VcwpBZGcdVhiLCkGCsbZN26IKQaH7T0WeugpBwEXpPGHSCkHfj4I0JOoKQf3ZGyznAQtBHCS1I6oZC0E7bk4bbTELQVq45xIwSQtBeAKBCvNgC0GXTBoCtngLQbaWs/l4kAtB1OBM8TuoC0H0Kubo/r8LQRJ1f+DB1wtBMb8Y2ITvC0FQCbLPRwcMQW5TS8cKHwxBjZ3kvs02DEGs5322kE4MQcsxF65TZgxB6XuwpRZ+DEE=",
          "dtype": "f8"
         }
        },
        {
         "mode": "lines",
         "name": "UCLA",
         "opacity": 0.6,
         "type": "scatter",
         "visible": false,
         "x": {
          "bdata": "AAAAAAAAAABGF1100UW3P0YXXXTRRcc/dNFFF1100T9GF1100UXXPxhddNFFF90/dNFFF1104T9ddNFFF13kP0YXXXTRRec/L7rooosu6j8YXXTRRRftPwAAAAAAAPA/dNFFF1108T/poosuuujyP1100UUXXfQ/0kUXXXTR9T9GF1100UX3P7rooosuuvg/L7rooosu+j+jiy666KL7PxhddNFFF/0/jC666KKL/j8AAAAAAAAAQLrooosuugBAdNFFF110AUAvuuiiiy4CQOmiiy666AJAo4suuuiiA0BddNFFF10EQBdddNFFFwVA0kUXXXTRBUCMLrrooosGQEYXXXTRRQdAAAAAAAAACEC66KKLLroIQHXRRRdddAlAL7rooosuCkDpoosuuugKQKOLLrroogtAXXTRRRddDEAYXXTRRRcNQNJFF1100Q1AjC666KKLDkBGF1100UUPQAAAAAAAABBAXXTRRRddEEC66KKLLroQQBdddNFFFxFAdNFFF110EUDSRRdddNERQC+66KKLLhJAjC666KKLEkDpoosuuugSQEYXXXTRRRNAo4suuuiiE0AAAAAAAAAUQF100UUXXRRAuuiiiy66FEAXXXTRRRcVQHXRRRdddBVA0kUXXXTRFUAvuuiiiy4WQIwuuuiiixZA6aKLLrroFkBGF1100UUXQKOLLrroohdAAAAAAAAAGEBddNFFF10YQLrooosuuhhAF1100UUXGUB10UUXXXQZQNJFF1100RlAL7rooosuGkCMLrrooosaQOmiiy666BpARhdddNFFG0Cjiy666KIbQAAAAAAAABxAXXTRRRddHEC66KKLLrocQBhddNFFFx1AddFFF110HUDSRRdddNEdQC+66KKLLh5AjC666KKLHkDpoosuuugeQEYXXXTRRR9Ao4suuuiiH0AAAAAAAAAgQC+66KKLLiBAXXTRRRddIECMLrrooosgQLrooosuuiBA6aKLLrroIEAXXXTRRRchQEYXXXTRRSFAdNFFF110IUCjiy666KIhQNJFF1100SFAAAAAAAAAIkA=",
          "dtype": "f8"
         },
         "y": {
          "bdata": "UFD+XOttAkFPdiO0SYACQU+cSAuokgJBTsJtYgalAkFO6JK5ZLcCQU0OuBDDyQJBTTTdZyHcAkFMWgK/f+4CQUyAJxbeAANBS6ZMbTwTA0FKzHHEmiUDQUrylhv5NwNBSRi8cldKA0FJPuHJtVwDQUhkBiEUbwNBSIoreHKBA0FHsFDP0JMDQUbWdSYvpgNBRvyafY24A0FFIsDU68oDQUVI5StK3QNBRG4Kg6jvA0FElC/aBgIEQUO6VDFlFARBQ+B5iMMmBEFCBp/fITkEQUIsxDaASwRBQVLpjd5dBEFAeA7lPHAEQUCeMzybggRBP8RYk/mUBEE/6n3qV6cEQT4Qo0G2uQRBPjbImBTMBEE9XO3vct4EQTyCEkfR8ARBPKg3ni8DBUE7zlz1jRUFQTv0gUzsJwVBOhqno0o6BUE6QMz6qEwFQTlm8VEHXwVBOIwWqWVxBUE4sjsAxIMFQTfYYFcilgVBN/6FroCoBUE2JKsF37oFQTZK0Fw9zQVBNXD1s5vfBUE1lhoL+vEFQTS8P2JYBAZBNOJkubYWBkEzCIoQFSkGQTIur2dzOwZBMlTUvtFNBkExevkVMGAGQTGgHm2OcgZBMMZDxOyEBkEw7GgbS5cGQS8SjnKpqQZBLjizyQe8BkEuXtggZs4GQS2E/XfE4AZBLaoizyLzBkEs0EcmgQUHQSz2bH3fFwdBKxyS1D0qB0EqQrcrnDwHQSpo3IL6TgdBKY4B2lhhB0EptCYxt3MHQSjaS4gVhgdBKABx33OYB0EnJpY20qoHQSdMu40wvQdBJnLg5I7PB0EmmAU87eEHQSW+KpNL9AdBJORP6qkGCEEkCnVBCBkIQSMwmphmKwhBI1a/78Q9CEEifORGI1AIQSKiCZ6BYghBIcgu9d90CEEg7lNMPocIQSAUeaOcmQhBHzqe+vqrCEEfYMNRWb4IQR6G6Ki30AhBHqwNABbjCEEd0jJXdPUIQRz4V67SBwlBHB59BTEaCUEbRKJcjywJQRtqx7PtPglBGpDsCkxRCUEathFiqmMJQRncNrkIdglBGAJcEGeICUE=",
          "dtype": "f8"
         }
        },
        {
         "line": {
          "color": "black",
          "dash": "dash"
         },
         "mode": "lines",
         "name": "Population Average",
         "type": "scatter",
         "visible": false,
         "x": {
          "bdata": "AAAAAAAAAABGF1100UW3P0YXXXTRRcc/dNFFF1100T9GF1100UXXPxhddNFFF90/dNFFF1104T9ddNFFF13kP0YXXXTRRec/L7rooosu6j8YXXTRRRftPwAAAAAAAPA/dNFFF1108T/poosuuujyP1100UUXXfQ/0kUXXXTR9T9GF1100UX3P7rooosuuvg/L7rooosu+j+jiy666KL7PxhddNFFF/0/jC666KKL/j8AAAAAAAAAQLrooosuugBAdNFFF110AUAvuuiiiy4CQOmiiy666AJAo4suuuiiA0BddNFFF10EQBdddNFFFwVA0kUXXXTRBUCMLrrooosGQEYXXXTRRQdAAAAAAAAACEC66KKLLroIQHXRRRdddAlAL7rooosuCkDpoosuuugKQKOLLrroogtAXXTRRRddDEAYXXTRRRcNQNJFF1100Q1AjC666KKLDkBGF1100UUPQAAAAAAAABBAXXTRRRddEEC66KKLLroQQBdddNFFFxFAdNFFF110EUDSRRdddNERQC+66KKLLhJAjC666KKLEkDpoosuuugSQEYXXXTRRRNAo4suuuiiE0AAAAAAAAAUQF100UUXXRRAuuiiiy66FEAXXXTRRRcVQHXRRRdddBVA0kUXXXTRFUAvuuiiiy4WQIwuuuiiixZA6aKLLrroFkBGF1100UUXQKOLLrroohdAAAAAAAAAGEBddNFFF10YQLrooosuuhhAF1100UUXGUB10UUXXXQZQNJFF1100RlAL7rooosuGkCMLrrooosaQOmiiy666BpARhdddNFFG0Cjiy666KIbQAAAAAAAABxAXXTRRRddHEC66KKLLrocQBhddNFFFx1AddFFF110HUDSRRdddNEdQC+66KKLLh5AjC666KKLHkDpoosuuugeQEYXXXTRRR9Ao4suuuiiH0AAAAAAAAAgQC+66KKLLiBAXXTRRRddIECMLrrooosgQLrooosuuiBA6aKLLrroIEAXXXTRRRchQEYXXXTRRSFAdNFFF110IUCjiy666KIhQNJFF1100SFAAAAAAAAAIkA=",
          "dtype": "f8"
         },
         "y": {
          "bdata": "Jz3Od/1+AkGOqBlkKYwCQfUTZVBVmQJBW3+wPIGmAkHC6vsorbMCQSlWRxXZwAJBkMGSAQXOAkH3LN7tMNsCQV2YKdpc6AJBxAN1xoj1AkErb8CytAIDQZLaC5/gDwNB+UVXiwwdA0FfsaJ3OCoDQcYc7mNkNwNBLYg5UJBEA0GU84Q8vFEDQfte0CjoXgNBYsobFRRsA0HINWcBQHkDQS+hsu1rhgNBlgz+2ZeTA0H9d0nGw6ADQWTjlLLvrQNByk7gnhu7A0ExuiuLR8gDQZgld3dz1QNB/5DCY5/iA0Fm/A1Qy+8DQcxnWTz3/ANBM9OkKCMKBEGaPvAUTxcEQQGqOwF7JARBaBWH7aYxBEHOgNLZ0j4EQTXsHcb+SwRBnFdpsipZBEEDw7SeVmYEQWouAIuCcwRB0JlLd66ABEE3BZdj2o0EQZ5w4k8GmwRBBdwtPDKoBEFsR3koXrUEQdKyxBSKwgRBOR4QAbbPBEGgiVvt4dwEQQf1ptkN6gRBbmDyxTn3BEHUyz2yZQQFQTs3iZ6REQVBoqLUir0eBUEJDiB36SsFQXB5a2MVOQVB1uS2T0FGBUE9UAI8bVMFQaS7TSiZYAVBCyeZFMVtBUFykuQA8XoFQdj9L+0ciAVBP2l72UiVBUGm1MbFdKIFQQ1AErKgrwVBdKtdnsy8BUHaFqmK+MkFQUGC9HYk1wVBqO0/Y1DkBUEPWYtPfPEFQXbE1juo/gVB3C8iKNQLBkFDm20UABkGQaoGuQAsJgZBEXIE7VczBkF43U/Zg0AGQd5Im8WvTQZBRbTmsdtaBkGsHzKeB2gGQROLfYozdQZBevbIdl+CBkHgYRRji48GQUjNX0+3nAZBrjirO+OpBkEVpPYnD7cGQXwPQhQ7xAZB4nqNAGfRBkFK5tjskt4GQbBRJNm+6wZBF71vxer4BkF+KLuxFgYHQeWTBp5CEwdBS/9Rim4gB0Gyap12mi0HQRnW6GLGOgdBgEE0T/JHB0HmrH87HlUHQU4YyydKYgdBtIMWFHZvB0Eb72EAonwHQYJarezNiQdB6MX42PmWB0E=",
          "dtype": "f8"
         }
        },
        {
         "mode": "lines",
         "name": "San Jose State",
         "opacity": 0.6,
         "type": "scatter",
         "visible": false,
         "x": {
          "bdata": "AAAAAAAAAABGF1100UW3P0YXXXTRRcc/dNFFF1100T9GF1100UXXPxhddNFFF90/dNFFF1104T9ddNFFF13kP0YXXXTRRec/L7rooosu6j8YXXTRRRftPwAAAAAAAPA/dNFFF1108T/poosuuujyP1100UUXXfQ/0kUXXXTR9T9GF1100UX3P7rooosuuvg/L7rooosu+j+jiy666KL7PxhddNFFF/0/jC666KKL/j8AAAAAAAAAQLrooosuugBAdNFFF110AUAvuuiiiy4CQOmiiy666AJAo4suuuiiA0BddNFFF10EQBdddNFFFwVA0kUXXXTRBUCMLrrooosGQEYXXXTRRQdAAAAAAAAACEC66KKLLroIQHXRRRdddAlAL7rooosuCkDpoosuuugKQKOLLrroogtAXXTRRRddDEAYXXTRRRcNQNJFF1100Q1AjC666KKLDkBGF1100UUPQAAAAAAAABBAXXTRRRddEEC66KKLLroQQBdddNFFFxFAdNFFF110EUDSRRdddNERQC+66KKLLhJAjC666KKLEkDpoosuuugSQEYXXXTRRRNAo4suuuiiE0AAAAAAAAAUQF100UUXXRRAuuiiiy66FEAXXXTRRRcVQHXRRRdddBVA0kUXXXTRFUAvuuiiiy4WQIwuuuiiixZA6aKLLrroFkBGF1100UUXQKOLLrroohdAAAAAAAAAGEBddNFFF10YQLrooosuuhhAF1100UUXGUB10UUXXXQZQNJFF1100RlAL7rooosuGkCMLrrooosaQOmiiy666BpARhdddNFFG0Cjiy666KIbQAAAAAAAABxAXXTRRRddHEC66KKLLrocQBhddNFFFx1AddFFF110HUDSRRdddNEdQC+66KKLLh5AjC666KKLHkDpoosuuugeQEYXXXTRRR9Ao4suuuiiH0AAAAAAAAAgQC+66KKLLiBAXXTRRRddIECMLrrooosgQLrooosuuiBA6aKLLrroIEAXXXTRRRchQEYXXXTRRSFAdNFFF110IUCjiy666KIhQNJFF1100SFAAAAAAAAAIkA=",
          "dtype": "f8"
         },
         "y": {
          "bdata": "0GFTkuf8AEE8Ca3xTwIBQaiwBlG4BwFBFFhgsCANAUGA/7kPiRIBQeymE2/xFwFBWE5tzlkdAUHE9cYtwiIBQTCdII0qKAFBnER67JItAUEI7NNL+zIBQXSTLatjOAFB4DqHCsw9AUFM4uBpNEMBQbiJOsmcSAFBJDGUKAVOAUGQ2O2HbVMBQf1/R+fVWAFBaSehRj5eAUHVzvqlpmMBQUF2VAUPaQFBrR2uZHduAUEZxQfE33MBQYVsYSNIeQFB8RO7grB+AUFduxTiGIQBQclibkGBiQFBNQrIoOmOAUGhsSEAUpQBQQ1Ze1+6mQFBeQDVviKfAUHlpy4ei6QBQVFPiH3zqQFBvfbh3FuvAUEpnjs8xLQBQZVFlZssugFBAe3u+pS/AUFtlEha/cQBQdk7orllygFBReP7GM7PAUGxilV4NtUBQR0yr9ee2gFBidkINwfgAUH1gGKWb+UBQWEovPXX6gFBzc8VVUDwAUE5d2+0qPUBQaUeyRMR+wFBEsYic3kAAkF+bXzS4QUCQeoU1jFKCwJBVrwvkbIQAkHCY4nwGhYCQS4L40+DGwJBmrI8r+sgAkEGWpYOVCYCQXIB8G28KwJB3qhJzSQxAkFKUKMsjTYCQbb3/Iv1OwJBIp9W611BAkGORrBKxkYCQfrtCaouTAJBZpVjCZdRAkHSPL1o/1YCQT7kFshnXAJBqotwJ9BhAkEWM8qGOGcCQYLaI+agbAJB7oF9RQlyAkFaKdekcXcCQcbQMATafAJBMniKY0KCAkGeH+TCqocCQQrHPSITjQJBdm6XgXuSAkHiFfHg45cCQU69SkBMnQJBumSkn7SiAkEmDP7+HKgCQZOzV16FrQJB/1qxve2yAkFrAgsdVrgCQdepZHy+vQJBQ1G+2ybDAkGv+Bc7j8gCQRugcZr3zQJBh0fL+V/TAkHz7iRZyNgCQV+Wfrgw3gJByz3YF5njAkE35TF3AekCQaOMi9Zp7gJBDzTlNdLzAkF72z6VOvkCQeeCmPSi/gJBUyryUwsEA0G/0UuzcwkDQSt5pRLcDgNBlyD/cUQUA0E=",
          "dtype": "f8"
         }
        },
        {
         "mode": "lines",
         "name": "Stanford",
         "opacity": 0.6,
         "type": "scatter",
         "visible": false,
         "x": {
          "bdata": "AAAAAAAAAABGF1100UW3P0YXXXTRRcc/dNFFF1100T9GF1100UXXPxhddNFFF90/dNFFF1104T9ddNFFF13kP0YXXXTRRec/L7rooosu6j8YXXTRRRftPwAAAAAAAPA/dNFFF1108T/poosuuujyP1100UUXXfQ/0kUXXXTR9T9GF1100UX3P7rooosuuvg/L7rooosu+j+jiy666KL7PxhddNFFF/0/jC666KKL/j8AAAAAAAAAQLrooosuugBAdNFFF110AUAvuuiiiy4CQOmiiy666AJAo4suuuiiA0BddNFFF10EQBdddNFFFwVA0kUXXXTRBUCMLrrooosGQEYXXXTRRQdAAAAAAAAACEC66KKLLroIQHXRRRdddAlAL7rooosuCkDpoosuuugKQKOLLrroogtAXXTRRRddDEAYXXTRRRcNQNJFF1100Q1AjC666KKLDkBGF1100UUPQAAAAAAAABBAXXTRRRddEEC66KKLLroQQBdddNFFFxFAdNFFF110EUDSRRdddNERQC+66KKLLhJAjC666KKLEkDpoosuuugSQEYXXXTRRRNAo4suuuiiE0AAAAAAAAAUQF100UUXXRRAuuiiiy66FEAXXXTRRRcVQHXRRRdddBVA0kUXXXTRFUAvuuiiiy4WQIwuuuiiixZA6aKLLrroFkBGF1100UUXQKOLLrroohdAAAAAAAAAGEBddNFFF10YQLrooosuuhhAF1100UUXGUB10UUXXXQZQNJFF1100RlAL7rooosuGkCMLrrooosaQOmiiy666BpARhdddNFFG0Cjiy666KIbQAAAAAAAABxAXXTRRRddHEC66KKLLrocQBhddNFFFx1AddFFF110HUDSRRdddNEdQC+66KKLLh5AjC666KKLHkDpoosuuugeQEYXXXTRRR9Ao4suuuiiH0AAAAAAAAAgQC+66KKLLiBAXXTRRRddIECMLrrooosgQLrooosuuiBA6aKLLrroIEAXXXTRRRchQEYXXXTRRSFAdNFFF110IUCjiy666KIhQNJFF1100SFAAAAAAAAAIkA=",
          "dtype": "f8"
         },
         "y": {
          "bdata": "Gq+jr53wAkGrNNBWivwCQTy6/P12CANBzT8ppWMUA0FexVVMUCADQe9KgvM8LANBgNCumik4A0ERVttBFkQDQaLbB+kCUANBM2E0kO9bA0HE5mA33GcDQVVsjd7IcwNB5vG5hbV/A0F3d+YsoosDQQj9EtSOlwNBmYI/e3ujA0EqCGwiaK8DQbuNmMlUuwNBTBPFcEHHA0HdmPEXLtMDQW4eHr8a3wNB/6NKZgfrA0GQKXcN9PYDQSGvo7TgAgRBsjTQW80OBEFDuvwCuhoEQdQ/KaqmJgRBZcVVUZMyBEH2SoL4fz4EQYfQrp9sSgRBGFbbRllWBEGp2wfuRWIEQTphNJUybgRBy+ZgPB96BEFcbI3jC4YEQe3xuYr4kQRBfnfmMeWdBEEP/RLZ0akEQaCCP4C+tQRBMQhsJ6vBBEHCjZjOl80EQVMTxXWE2QRB5JjxHHHlBEF1Hh7EXfEEQQakSmtK/QRBlyl3EjcJBUEor6O5IxUFQbk00GAQIQVBSrr8B/0sBUHbPymv6TgFQWzFVVbWRAVB/UqC/cJQBUGO0K6kr1wFQR9W20ucaAVBsNsH84h0BUFBYTSadYAFQdLmYEFijAVBY2yN6E6YBUH08bmPO6QFQYV35jYosAVBFv0S3hS8BUGngj+FAcgFQTgIbCzu0wVByY2Y09rfBUFaE8V6x+sFQeuY8SG09wVBfB4eyaADBkENpEpwjQ8GQZ4pdxd6GwZBL6+jvmYnBkHANNBlUzMGQVK6/AxAPwZB4j8ptCxLBkF0xVVbGVcGQQRLggIGYwZBltCuqfJuBkEmVttQ33oGQbjbB/jLhgZBSGE0n7iSBkHZ5mBGpZ4GQWpsje2RqgZB/PG5lH62BkGMd+Y7a8IGQR79EuNXzgZBroI/ikTaBkFACGwxMeYGQdCNmNgd8gZBYhPFfwr+BkHymPEm9wkHQYQeHs7jFQdBFKRKddAhB0GmKXccvS0HQTavo8OpOQdByDTQapZFB0FYuvwRg1EHQeo/KblvXQdBesVVYFxpB0EMS4IHSXUHQZ3Qrq41gQdBLlbbVSKNB0E=",
          "dtype": "f8"
         }
        },
        {
         "mode": "lines",
         "name": "UC Berkeley",
         "opacity": 0.6,
         "type": "scatter",
         "visible": false,
         "x": {
          "bdata": "AAAAAAAAAABGF1100UW3P0YXXXTRRcc/dNFFF1100T9GF1100UXXPxhddNFFF90/dNFFF1104T9ddNFFF13kP0YXXXTRRec/L7rooosu6j8YXXTRRRftPwAAAAAAAPA/dNFFF1108T/poosuuujyP1100UUXXfQ/0kUXXXTR9T9GF1100UX3P7rooosuuvg/L7rooosu+j+jiy666KL7PxhddNFFF/0/jC666KKL/j8AAAAAAAAAQLrooosuugBAdNFFF110AUAvuuiiiy4CQOmiiy666AJAo4suuuiiA0BddNFFF10EQBdddNFFFwVA0kUXXXTRBUCMLrrooosGQEYXXXTRRQdAAAAAAAAACEC66KKLLroIQHXRRRdddAlAL7rooosuCkDpoosuuugKQKOLLrroogtAXXTRRRddDEAYXXTRRRcNQNJFF1100Q1AjC666KKLDkBGF1100UUPQAAAAAAAABBAXXTRRRddEEC66KKLLroQQBdddNFFFxFAdNFFF110EUDSRRdddNERQC+66KKLLhJAjC666KKLEkDpoosuuugSQEYXXXTRRRNAo4suuuiiE0AAAAAAAAAUQF100UUXXRRAuuiiiy66FEAXXXTRRRcVQHXRRRdddBVA0kUXXXTRFUAvuuiiiy4WQIwuuuiiixZA6aKLLrroFkBGF1100UUXQKOLLrroohdAAAAAAAAAGEBddNFFF10YQLrooosuuhhAF1100UUXGUB10UUXXXQZQNJFF1100RlAL7rooosuGkCMLrrooosaQOmiiy666BpARhdddNFFG0Cjiy666KIbQAAAAAAAABxAXXTRRRddHEC66KKLLrocQBhddNFFFx1AddFFF110HUDSRRdddNEdQC+66KKLLh5AjC666KKLHkDpoosuuugeQEYXXXTRRR9Ao4suuuiiH0AAAAAAAAAgQC+66KKLLiBAXXTRRRddIECMLrrooosgQLrooosuuiBA6aKLLrroIEAXXXTRRRchQEYXXXTRRSFAdNFFF110IUCjiy666KIhQNJFF1100SFAAAAAAAAAIkA=",
          "dtype": "f8"
         },
         "y": {
          "bdata": "+wMDqNtiAkH4AkvIIXACQfQBk+hnfQJB8QDbCK6KAkHu/yIp9JcCQev+akk6pQJB5/2yaYCyAkHk/PqJxr8CQeH7QqoMzQJB3vqKylLaAkHa+dLqmOcCQdf4Ggvf9AJB1PdiKyUCA0HR9qpLaw8DQc318muxHANByvQ6jPcpA0HH84KsPTcDQcTyysyDRANBwPES7clRA0G98FoNEF8DQbrvoi1WbANBt+7qTZx5A0Gz7TJu4oYDQbDseo4olANBrevCrm6hA0Gq6grPtK4DQabpUu/6uwNBo+iaD0HJA0Gg5+Ivh9YDQZ3mKlDN4wNBmeVycBPxA0GW5LqQWf4DQZPjArGfCwRBkOJK0eUYBEGM4ZLxKyYEQYng2hFyMwRBht8iMrhABEGD3mpS/k0EQX/dsnJEWwRBfNz6kopoBEF520Kz0HUEQXbaitMWgwRBctnS81yQBEFv2BoUo50EQWzXYjTpqgRBadaqVC+4BEFl1fJ0dcUEQWLUOpW70gRBX9OCtQHgBEFc0srVR+0EQVjREvaN+gRBVdBaFtQHBUFSz6I2GhUFQU/O6lZgIgVBS80yd6YvBUFIzHqX7DwFQUXLwrcySgVBQsoK2HhXBUE+yVL4vmQFQTvImhgFcgVBOMfiOEt/BUE1xipZkYwFQTHFcnnXmQVBLsS6mR2nBUErwwK6Y7QFQSjCStqpwQVBJMGS+u/OBUEhwNoaNtwFQR6/Ijt86QVBGr5qW8L2BUEXvbJ7CAQGQRS8+ptOEQZBEbtCvJQeBkEOuorc2isGQQq50vwgOQZBB7gaHWdGBkEEt2I9rVMGQQC2ql3zYAZB/bTyfTluBkH6szqef3sGQfeygr7FiAZB9LHK3guWBkHwsBL/UaMGQe2vWh+YsAZB6q6iP969BkHmrepfJMsGQeOsMoBq2AZB4Kt6oLDlBkHdqsLA9vIGQdqpCuE8AAdB1qhSAYMNB0HTp5ohyRoHQdCm4kEPKAdBzKUqYlU1B0HJpHKCm0IHQcajuqLhTwdBwqICwyddB0HAoUrjbWoHQbygkgO0dwdBuZ/aI/qEB0E=",
          "dtype": "f8"
         }
        },
        {
         "mode": "lines",
         "name": "UC San Diego",
         "opacity": 0.6,
         "type": "scatter",
         "visible": false,
         "x": {
          "bdata": "AAAAAAAAAABGF1100UW3P0YXXXTRRcc/dNFFF1100T9GF1100UXXPxhddNFFF90/dNFFF1104T9ddNFFF13kP0YXXXTRRec/L7rooosu6j8YXXTRRRftPwAAAAAAAPA/dNFFF1108T/poosuuujyP1100UUXXfQ/0kUXXXTR9T9GF1100UX3P7rooosuuvg/L7rooosu+j+jiy666KL7PxhddNFFF/0/jC666KKL/j8AAAAAAAAAQLrooosuugBAdNFFF110AUAvuuiiiy4CQOmiiy666AJAo4suuuiiA0BddNFFF10EQBdddNFFFwVA0kUXXXTRBUCMLrrooosGQEYXXXTRRQdAAAAAAAAACEC66KKLLroIQHXRRRdddAlAL7rooosuCkDpoosuuugKQKOLLrroogtAXXTRRRddDEAYXXTRRRcNQNJFF1100Q1AjC666KKLDkBGF1100UUPQAAAAAAAABBAXXTRRRddEEC66KKLLroQQBdddNFFFxFAdNFFF110EUDSRRdddNERQC+66KKLLhJAjC666KKLEkDpoosuuugSQEYXXXTRRRNAo4suuuiiE0AAAAAAAAAUQF100UUXXRRAuuiiiy66FEAXXXTRRRcVQHXRRRdddBVA0kUXXXTRFUAvuuiiiy4WQIwuuuiiixZA6aKLLrroFkBGF1100UUXQKOLLrroohdAAAAAAAAAGEBddNFFF10YQLrooosuuhhAF1100UUXGUB10UUXXXQZQNJFF1100RlAL7rooosuGkCMLrrooosaQOmiiy666BpARhdddNFFG0Cjiy666KIbQAAAAAAAABxAXXTRRRddHEC66KKLLrocQBhddNFFFx1AddFFF110HUDSRRdddNEdQC+66KKLLh5AjC666KKLHkDpoosuuugeQEYXXXTRRR9Ao4suuuiiH0AAAAAAAAAgQC+66KKLLiBAXXTRRRddIECMLrrooosgQLrooosuuiBA6aKLLrroIEAXXXTRRRchQEYXXXTRRSFAdNFFF110IUCjiy666KIhQNJFF1100SFAAAAAAAAAIkA=",
          "dtype": "f8"
         },
         "y": {
          "bdata": "Kw159lw3A0H0OBqckU4DQb1ku0HGZQNBhZBc5/p8A0FOvP2ML5QDQRfonjJkqwNB4BNA2JjCA0GpP+F9zdkDQXFrgiMC8QNBOpcjyTYIBEEDw8Ruax8EQczuZRSgNgRBlRoHutRNBEFdRqhfCWUEQSZySQU+fARB753qqnKTBEG4yYtQp6oEQYH1LPbbwQRBSiHOmxDZBEESTW9BRfAEQdt4EOd5BwVBpKSxjK4eBUFt0FIy4zUFQTb889cXTQVB/ieVfUxkBUHHUzYjgXsFQZB/18i1kgVBWat4buqpBUEi1xkUH8EFQeoCu7lT2AVBsy5cX4jvBUF8Wv0EvQYGQUWGnqrxHQZBDrI/UCY1BkHW3eD1WkwGQZ8JgpuPYwZBaDUjQcR6BkExYcTm+JEGQfqMZYwtqQZBwrgGMmLABkGL5KfXltcGQVQQSX3L7gZBHTzqIgAGB0HmZ4vINB0HQa6TLG5pNAdBd7/NE55LB0FA62650mIHQQkXEF8HegdB0kKxBDyRB0GablKqcKgHQWOa80+lvwdBLMaU9dnWB0H18TWbDu4HQb4d10BDBQhBhkl45nccCEFPdRmMrDMIQRihujHhSghB4cxb1xViCEGq+Px8SnkIQXIkniJ/kAhBO1A/yLOnCEEEfOBt6L4IQc2ngRMd1ghBltMiuVHtCEFe/8NehgQJQScrZQS7GwlB8FYGqu8yCUG5gqdPJEoJQYKuSPVYYQlBStrpmo14CUEUBotAwo8JQdwxLOb2pglBpV3Niyu+CUFuiW4xYNUJQTa1D9eU7AlB/+CwfMkDCkHIDFIi/hoKQZE488cyMgpBWmSUbWdJCkEikDUTnGAKQey71rjQdwpBtOd3XgWPCkF9ExkEOqYKQUY/uqluvQpBDmtbT6PUCkHYlvz01+sKQaDCnZoMAwtBae4+QEEaC0EyGuDldTELQftFgYuqSAtBxHEiMd9fC0GMncPWE3cLQVXJZHxIjgtBHvUFIn2lC0HmIKfHsbwLQbBMSG3m0wtBeHjpEhvrC0FBpIq4TwIMQQrQK16EGQxB0vvMA7kwDEE=",
          "dtype": "f8"
         }
        },
        {
         "mode": "lines",
         "name": "UCLA",
         "opacity": 0.6,
         "type": "scatter",
         "visible": false,
         "x": {
          "bdata": "AAAAAAAAAABGF1100UW3P0YXXXTRRcc/dNFFF1100T9GF1100UXXPxhddNFFF90/dNFFF1104T9ddNFFF13kP0YXXXTRRec/L7rooosu6j8YXXTRRRftPwAAAAAAAPA/dNFFF1108T/poosuuujyP1100UUXXfQ/0kUXXXTR9T9GF1100UX3P7rooosuuvg/L7rooosu+j+jiy666KL7PxhddNFFF/0/jC666KKL/j8AAAAAAAAAQLrooosuugBAdNFFF110AUAvuuiiiy4CQOmiiy666AJAo4suuuiiA0BddNFFF10EQBdddNFFFwVA0kUXXXTRBUCMLrrooosGQEYXXXTRRQdAAAAAAAAACEC66KKLLroIQHXRRRdddAlAL7rooosuCkDpoosuuugKQKOLLrroogtAXXTRRRddDEAYXXTRRRcNQNJFF1100Q1AjC666KKLDkBGF1100UUPQAAAAAAAABBAXXTRRRddEEC66KKLLroQQBdddNFFFxFAdNFFF110EUDSRRdddNERQC+66KKLLhJAjC666KKLEkDpoosuuugSQEYXXXTRRRNAo4suuuiiE0AAAAAAAAAUQF100UUXXRRAuuiiiy66FEAXXXTRRRcVQHXRRRdddBVA0kUXXXTRFUAvuuiiiy4WQIwuuuiiixZA6aKLLrroFkBGF1100UUXQKOLLrroohdAAAAAAAAAGEBddNFFF10YQLrooosuuhhAF1100UUXGUB10UUXXXQZQNJFF1100RlAL7rooosuGkCMLrrooosaQOmiiy666BpARhdddNFFG0Cjiy666KIbQAAAAAAAABxAXXTRRRddHEC66KKLLrocQBhddNFFFx1AddFFF110HUDSRRdddNEdQC+66KKLLh5AjC666KKLHkDpoosuuugeQEYXXXTRRR9Ao4suuuiiH0AAAAAAAAAgQC+66KKLLiBAXXTRRRddIECMLrrooosgQLrooosuuiBA6aKLLrroIEAXXXTRRRchQEYXXXTRRSFAdNFFF110IUCjiy666KIhQNJFF1100SFAAAAAAAAAIkA=",
          "dtype": "f8"
         },
         "y": {
          "bdata": "4Q+UdjXzAkEi0Z1HQf8CQWSSpxhNCwNBpVOx6VgXA0HnFLu6ZCMDQSjWxItwLwNBapfOXHw7A0GrWNgtiEcDQe0Z4v6TUwNBLtvrz59fA0FwnPWgq2sDQbFd/3G3dwNB8x4JQ8ODA0E04BIUz48DQXahHOXamwNBt2ImtuanA0H5IzCH8rMDQTrlOVj+vwNBfKZDKQrMA0G9Z036FdgDQf8oV8sh5ANBQOpgnC3wA0GCq2ptOfwDQcNsdD5FCARBBC5+D1EUBEFG74fgXCAEQYiwkbFoLARByXGbgnQ4BEEKM6VTgEQEQUz0riSMUARBjbW49ZdcBEHPdsLGo2gEQRA4zJevdARBUvnVaLuABEGTut85x4wEQdV76QrTmARBFj3z296kBEFY/vys6rAEQZm/Bn72vARB24AQTwLJBEEcQhogDtUEQV4DJPEZ4QRBn8QtwiXtBEHhhTeTMfkEQSJHQWQ9BQVBZAhLNUkRBUGlyVQGVR0FQeaKXtdgKQVBKExoqGw1BUFqDXJ5eEEFQavOe0qETQVB7I+FG5BZBUEuUY/sm2UFQXASmb2ncQVBsdOijrN9BUHylKxfv4kFQTRWtjDLlQVBdRfAAdehBUG32MnS4q0FQfiZ06PuuQVBOlvddPrFBUF7HOdFBtIFQb3d8BYS3gVB/p765x3qBUFAYAS5KfYFQYEhDoo1AgZBw+IXW0EOBkEEpCEsTRoGQUZlK/1YJgZBhyY1zmQyBkHJ5z6fcD4GQQqpSHB8SgZBTGpSQYhWBkGNK1wSlGIGQc/sZeOfbgZBEK5vtKt6BkFSb3mFt4YGQZMwg1bDkgZB1PGMJ8+eBkEWs5b42qoGQVh0oMnmtgZBmTWqmvLCBkHa9rNr/s4GQRy4vTwK2wZBXXnHDRbnBkGfOtHeIfMGQeD72q8t/wZBIr3kgDkLB0Fjfu5RRRcHQaU/+CJRIwdB5gAC9FwvB0EowgvFaDsHQWmDFZZ0RwdBq0QfZ4BTB0HsBSk4jF8HQS7HMgmYawdBb4g82qN3B0GwSUarr4MHQfIKUHy7jwdBNMxZTcebB0E=",
          "dtype": "f8"
         }
        }
       ],
       "layout": {
        "height": 700,
        "legend": {
         "title": {
          "text": "Master's Program University"
         }
        },
        "template": {
         "data": {
          "bar": [
           {
            "error_x": {
             "color": "#2a3f5f"
            },
            "error_y": {
             "color": "#2a3f5f"
            },
            "marker": {
             "line": {
              "color": "white",
              "width": 0.5
             },
             "pattern": {
              "fillmode": "overlay",
              "size": 10,
              "solidity": 0.2
             }
            },
            "type": "bar"
           }
          ],
          "barpolar": [
           {
            "marker": {
             "line": {
              "color": "white",
              "width": 0.5
             },
             "pattern": {
              "fillmode": "overlay",
              "size": 10,
              "solidity": 0.2
             }
            },
            "type": "barpolar"
           }
          ],
          "carpet": [
           {
            "aaxis": {
             "endlinecolor": "#2a3f5f",
             "gridcolor": "#C8D4E3",
             "linecolor": "#C8D4E3",
             "minorgridcolor": "#C8D4E3",
             "startlinecolor": "#2a3f5f"
            },
            "baxis": {
             "endlinecolor": "#2a3f5f",
             "gridcolor": "#C8D4E3",
             "linecolor": "#C8D4E3",
             "minorgridcolor": "#C8D4E3",
             "startlinecolor": "#2a3f5f"
            },
            "type": "carpet"
           }
          ],
          "choropleth": [
           {
            "colorbar": {
             "outlinewidth": 0,
             "ticks": ""
            },
            "type": "choropleth"
           }
          ],
          "contour": [
           {
            "colorbar": {
             "outlinewidth": 0,
             "ticks": ""
            },
            "colorscale": [
             [
              0,
              "#0d0887"
             ],
             [
              0.1111111111111111,
              "#46039f"
             ],
             [
              0.2222222222222222,
              "#7201a8"
             ],
             [
              0.3333333333333333,
              "#9c179e"
             ],
             [
              0.4444444444444444,
              "#bd3786"
             ],
             [
              0.5555555555555556,
              "#d8576b"
             ],
             [
              0.6666666666666666,
              "#ed7953"
             ],
             [
              0.7777777777777778,
              "#fb9f3a"
             ],
             [
              0.8888888888888888,
              "#fdca26"
             ],
             [
              1,
              "#f0f921"
             ]
            ],
            "type": "contour"
           }
          ],
          "contourcarpet": [
           {
            "colorbar": {
             "outlinewidth": 0,
             "ticks": ""
            },
            "type": "contourcarpet"
           }
          ],
          "heatmap": [
           {
            "colorbar": {
             "outlinewidth": 0,
             "ticks": ""
            },
            "colorscale": [
             [
              0,
              "#0d0887"
             ],
             [
              0.1111111111111111,
              "#46039f"
             ],
             [
              0.2222222222222222,
              "#7201a8"
             ],
             [
              0.3333333333333333,
              "#9c179e"
             ],
             [
              0.4444444444444444,
              "#bd3786"
             ],
             [
              0.5555555555555556,
              "#d8576b"
             ],
             [
              0.6666666666666666,
              "#ed7953"
             ],
             [
              0.7777777777777778,
              "#fb9f3a"
             ],
             [
              0.8888888888888888,
              "#fdca26"
             ],
             [
              1,
              "#f0f921"
             ]
            ],
            "type": "heatmap"
           }
          ],
          "histogram": [
           {
            "marker": {
             "pattern": {
              "fillmode": "overlay",
              "size": 10,
              "solidity": 0.2
             }
            },
            "type": "histogram"
           }
          ],
          "histogram2d": [
           {
            "colorbar": {
             "outlinewidth": 0,
             "ticks": ""
            },
            "colorscale": [
             [
              0,
              "#0d0887"
             ],
             [
              0.1111111111111111,
              "#46039f"
             ],
             [
              0.2222222222222222,
              "#7201a8"
             ],
             [
              0.3333333333333333,
              "#9c179e"
             ],
             [
              0.4444444444444444,
              "#bd3786"
             ],
             [
              0.5555555555555556,
              "#d8576b"
             ],
             [
              0.6666666666666666,
              "#ed7953"
             ],
             [
              0.7777777777777778,
              "#fb9f3a"
             ],
             [
              0.8888888888888888,
              "#fdca26"
             ],
             [
              1,
              "#f0f921"
             ]
            ],
            "type": "histogram2d"
           }
          ],
          "histogram2dcontour": [
           {
            "colorbar": {
             "outlinewidth": 0,
             "ticks": ""
            },
            "colorscale": [
             [
              0,
              "#0d0887"
             ],
             [
              0.1111111111111111,
              "#46039f"
             ],
             [
              0.2222222222222222,
              "#7201a8"
             ],
             [
              0.3333333333333333,
              "#9c179e"
             ],
             [
              0.4444444444444444,
              "#bd3786"
             ],
             [
              0.5555555555555556,
              "#d8576b"
             ],
             [
              0.6666666666666666,
              "#ed7953"
             ],
             [
              0.7777777777777778,
              "#fb9f3a"
             ],
             [
              0.8888888888888888,
              "#fdca26"
             ],
             [
              1,
              "#f0f921"
             ]
            ],
            "type": "histogram2dcontour"
           }
          ],
          "mesh3d": [
           {
            "colorbar": {
             "outlinewidth": 0,
             "ticks": ""
            },
            "type": "mesh3d"
           }
          ],
          "parcoords": [
           {
            "line": {
             "colorbar": {
              "outlinewidth": 0,
              "ticks": ""
             }
            },
            "type": "parcoords"
           }
          ],
          "pie": [
           {
            "automargin": true,
            "type": "pie"
           }
          ],
          "scatter": [
           {
            "fillpattern": {
             "fillmode": "overlay",
             "size": 10,
             "solidity": 0.2
            },
            "type": "scatter"
           }
          ],
          "scatter3d": [
           {
            "line": {
             "colorbar": {
              "outlinewidth": 0,
              "ticks": ""
             }
            },
            "marker": {
             "colorbar": {
              "outlinewidth": 0,
              "ticks": ""
             }
            },
            "type": "scatter3d"
           }
          ],
          "scattercarpet": [
           {
            "marker": {
             "colorbar": {
              "outlinewidth": 0,
              "ticks": ""
             }
            },
            "type": "scattercarpet"
           }
          ],
          "scattergeo": [
           {
            "marker": {
             "colorbar": {
              "outlinewidth": 0,
              "ticks": ""
             }
            },
            "type": "scattergeo"
           }
          ],
          "scattergl": [
           {
            "marker": {
             "colorbar": {
              "outlinewidth": 0,
              "ticks": ""
             }
            },
            "type": "scattergl"
           }
          ],
          "scattermap": [
           {
            "marker": {
             "colorbar": {
              "outlinewidth": 0,
              "ticks": ""
             }
            },
            "type": "scattermap"
           }
          ],
          "scattermapbox": [
           {
            "marker": {
             "colorbar": {
              "outlinewidth": 0,
              "ticks": ""
             }
            },
            "type": "scattermapbox"
           }
          ],
          "scatterpolar": [
           {
            "marker": {
             "colorbar": {
              "outlinewidth": 0,
              "ticks": ""
             }
            },
            "type": "scatterpolar"
           }
          ],
          "scatterpolargl": [
           {
            "marker": {
             "colorbar": {
              "outlinewidth": 0,
              "ticks": ""
             }
            },
            "type": "scatterpolargl"
           }
          ],
          "scatterternary": [
           {
            "marker": {
             "colorbar": {
              "outlinewidth": 0,
              "ticks": ""
             }
            },
            "type": "scatterternary"
           }
          ],
          "surface": [
           {
            "colorbar": {
             "outlinewidth": 0,
             "ticks": ""
            },
            "colorscale": [
             [
              0,
              "#0d0887"
             ],
             [
              0.1111111111111111,
              "#46039f"
             ],
             [
              0.2222222222222222,
              "#7201a8"
             ],
             [
              0.3333333333333333,
              "#9c179e"
             ],
             [
              0.4444444444444444,
              "#bd3786"
             ],
             [
              0.5555555555555556,
              "#d8576b"
             ],
             [
              0.6666666666666666,
              "#ed7953"
             ],
             [
              0.7777777777777778,
              "#fb9f3a"
             ],
             [
              0.8888888888888888,
              "#fdca26"
             ],
             [
              1,
              "#f0f921"
             ]
            ],
            "type": "surface"
           }
          ],
          "table": [
           {
            "cells": {
             "fill": {
              "color": "#EBF0F8"
             },
             "line": {
              "color": "white"
             }
            },
            "header": {
             "fill": {
              "color": "#C8D4E3"
             },
             "line": {
              "color": "white"
             }
            },
            "type": "table"
           }
          ]
         },
         "layout": {
          "annotationdefaults": {
           "arrowcolor": "#2a3f5f",
           "arrowhead": 0,
           "arrowwidth": 1
          },
          "autotypenumbers": "strict",
          "coloraxis": {
           "colorbar": {
            "outlinewidth": 0,
            "ticks": ""
           }
          },
          "colorscale": {
           "diverging": [
            [
             0,
             "#8e0152"
            ],
            [
             0.1,
             "#c51b7d"
            ],
            [
             0.2,
             "#de77ae"
            ],
            [
             0.3,
             "#f1b6da"
            ],
            [
             0.4,
             "#fde0ef"
            ],
            [
             0.5,
             "#f7f7f7"
            ],
            [
             0.6,
             "#e6f5d0"
            ],
            [
             0.7,
             "#b8e186"
            ],
            [
             0.8,
             "#7fbc41"
            ],
            [
             0.9,
             "#4d9221"
            ],
            [
             1,
             "#276419"
            ]
           ],
           "sequential": [
            [
             0,
             "#0d0887"
            ],
            [
             0.1111111111111111,
             "#46039f"
            ],
            [
             0.2222222222222222,
             "#7201a8"
            ],
            [
             0.3333333333333333,
             "#9c179e"
            ],
            [
             0.4444444444444444,
             "#bd3786"
            ],
            [
             0.5555555555555556,
             "#d8576b"
            ],
            [
             0.6666666666666666,
             "#ed7953"
            ],
            [
             0.7777777777777778,
             "#fb9f3a"
            ],
            [
             0.8888888888888888,
             "#fdca26"
            ],
            [
             1,
             "#f0f921"
            ]
           ],
           "sequentialminus": [
            [
             0,
             "#0d0887"
            ],
            [
             0.1111111111111111,
             "#46039f"
            ],
            [
             0.2222222222222222,
             "#7201a8"
            ],
            [
             0.3333333333333333,
             "#9c179e"
            ],
            [
             0.4444444444444444,
             "#bd3786"
            ],
            [
             0.5555555555555556,
             "#d8576b"
            ],
            [
             0.6666666666666666,
             "#ed7953"
            ],
            [
             0.7777777777777778,
             "#fb9f3a"
            ],
            [
             0.8888888888888888,
             "#fdca26"
            ],
            [
             1,
             "#f0f921"
            ]
           ]
          },
          "colorway": [
           "#636efa",
           "#EF553B",
           "#00cc96",
           "#ab63fa",
           "#FFA15A",
           "#19d3f3",
           "#FF6692",
           "#B6E880",
           "#FF97FF",
           "#FECB52"
          ],
          "font": {
           "color": "#2a3f5f"
          },
          "geo": {
           "bgcolor": "white",
           "lakecolor": "white",
           "landcolor": "white",
           "showlakes": true,
           "showland": true,
           "subunitcolor": "#C8D4E3"
          },
          "hoverlabel": {
           "align": "left"
          },
          "hovermode": "closest",
          "mapbox": {
           "style": "light"
          },
          "paper_bgcolor": "white",
          "plot_bgcolor": "white",
          "polar": {
           "angularaxis": {
            "gridcolor": "#EBF0F8",
            "linecolor": "#EBF0F8",
            "ticks": ""
           },
           "bgcolor": "white",
           "radialaxis": {
            "gridcolor": "#EBF0F8",
            "linecolor": "#EBF0F8",
            "ticks": ""
           }
          },
          "scene": {
           "xaxis": {
            "backgroundcolor": "white",
            "gridcolor": "#DFE8F3",
            "gridwidth": 2,
            "linecolor": "#EBF0F8",
            "showbackground": true,
            "ticks": "",
            "zerolinecolor": "#EBF0F8"
           },
           "yaxis": {
            "backgroundcolor": "white",
            "gridcolor": "#DFE8F3",
            "gridwidth": 2,
            "linecolor": "#EBF0F8",
            "showbackground": true,
            "ticks": "",
            "zerolinecolor": "#EBF0F8"
           },
           "zaxis": {
            "backgroundcolor": "white",
            "gridcolor": "#DFE8F3",
            "gridwidth": 2,
            "linecolor": "#EBF0F8",
            "showbackground": true,
            "ticks": "",
            "zerolinecolor": "#EBF0F8"
           }
          },
          "shapedefaults": {
           "line": {
            "color": "#2a3f5f"
           }
          },
          "ternary": {
           "aaxis": {
            "gridcolor": "#DFE8F3",
            "linecolor": "#A2B1C6",
            "ticks": ""
           },
           "baxis": {
            "gridcolor": "#DFE8F3",
            "linecolor": "#A2B1C6",
            "ticks": ""
           },
           "bgcolor": "white",
           "caxis": {
            "gridcolor": "#DFE8F3",
            "linecolor": "#A2B1C6",
            "ticks": ""
           }
          },
          "title": {
           "x": 0.05
          },
          "xaxis": {
           "automargin": true,
           "gridcolor": "#EBF0F8",
           "linecolor": "#EBF0F8",
           "ticks": "",
           "title": {
            "standoff": 15
           },
           "zerolinecolor": "#EBF0F8",
           "zerolinewidth": 2
          },
          "yaxis": {
           "automargin": true,
           "gridcolor": "#EBF0F8",
           "linecolor": "#EBF0F8",
           "ticks": "",
           "title": {
            "standoff": 15
           },
           "zerolinecolor": "#EBF0F8",
           "zerolinewidth": 2
          }
         }
        },
        "title": {
         "text": "Mixed Effects: GPA vs First Job Salary"
        },
        "updatemenus": [
         {
          "buttons": [
           {
            "args": [
             {
              "visible": [
               true,
               true,
               true,
               true,
               true,
               true,
               false,
               false,
               false,
               false,
               false,
               false,
               false,
               false,
               false,
               false,
               false,
               false,
               false,
               false,
               false,
               false,
               false,
               false
              ]
             },
             {
              "title": "Mixed Effects: GPA vs First Job Salary",
              "xaxis": {
               "title": "GPA"
              }
             }
            ],
            "label": "GPA",
            "method": "update"
           },
           {
            "args": [
             {
              "visible": [
               false,
               false,
               false,
               false,
               false,
               false,
               true,
               true,
               true,
               true,
               true,
               true,
               false,
               false,
               false,
               false,
               false,
               false,
               false,
               false,
               false,
               false,
               false,
               false
              ]
             },
             {
              "title": "Mixed Effects: Relevant Work Experience vs Salary",
              "xaxis": {
               "title": "Years of Relevant Work Experience"
              }
             }
            ],
            "label": "Work Experience",
            "method": "update"
           },
           {
            "args": [
             {
              "visible": [
               false,
               false,
               false,
               false,
               false,
               false,
               false,
               false,
               false,
               false,
               false,
               false,
               true,
               true,
               true,
               true,
               true,
               true,
               false,
               false,
               false,
               false,
               false,
               false
              ]
             },
             {
              "title": "Mixed Effects: Python Experience vs Salary",
              "xaxis": {
               "title": "Years of Python Experience"
              }
             }
            ],
            "label": "Python Experience",
            "method": "update"
           },
           {
            "args": [
             {
              "visible": [
               false,
               false,
               false,
               false,
               false,
               false,
               false,
               false,
               false,
               false,
               false,
               false,
               false,
               false,
               false,
               false,
               false,
               false,
               true,
               true,
               true,
               true,
               true,
               true
              ]
             },
             {
              "title": "Mixed Effects: SQL Experience vs Salary",
              "xaxis": {
               "title": "Years of SQL Experience"
              }
             }
            ],
            "label": "SQL Experience",
            "method": "update"
           }
          ],
          "direction": "right",
          "showactive": true,
          "type": "buttons",
          "x": 0.5,
          "y": 1
         }
        ],
        "xaxis": {
         "title": {
          "text": "GPA"
         }
        },
        "yaxis": {
         "title": {
          "text": "First Job Salary"
         }
        }
       }
      }
     },
     "metadata": {},
     "output_type": "display_data"
    }
   ],
   "source": [
    "import numpy as np\n",
    "import plotly.graph_objects as go\n",
    "\n",
    "# Helper to create traces for one model\n",
    "def create_spaghetti_traces(model, x_var, data, group_name='masters_university'):\n",
    "    x_vals = np.linspace(data[x_var].min(), data[x_var].max(), 100)\n",
    "    traces = []\n",
    "\n",
    "    # Fixed effects line\n",
    "    fixed_intercept = model.fe_params['Intercept']\n",
    "    fixed_slope = model.fe_params[x_var]\n",
    "    y_fixed = fixed_intercept + fixed_slope * x_vals\n",
    "\n",
    "    traces.append(go.Scatter(\n",
    "        x=x_vals,\n",
    "        y=y_fixed,\n",
    "        mode='lines',\n",
    "        line=dict(color='black', dash='dash'),\n",
    "        name='Population Average'\n",
    "    ))\n",
    "\n",
    "    # Random effects (group-specific lines)\n",
    "    for group, effects in model.random_effects.items():\n",
    "        group_intercept = fixed_intercept + effects['Group']\n",
    "        group_slope = fixed_slope + effects[x_var]\n",
    "        y_group = group_intercept + group_slope * x_vals\n",
    "\n",
    "        traces.append(go.Scatter(\n",
    "            x=x_vals,\n",
    "            y=y_group,\n",
    "            mode='lines',\n",
    "            name=str(group),\n",
    "            opacity=0.6\n",
    "        ))\n",
    "\n",
    "    return traces\n",
    "\n",
    "# --- Create traces for each model ---\n",
    "traces_gpa   = create_spaghetti_traces(model1, 'masters_gpa', data)\n",
    "traces_work  = create_spaghetti_traces(model2, 'relevant_work_years', data)\n",
    "traces_py    = create_spaghetti_traces(model3, 'years_python', data)\n",
    "traces_sql   = create_spaghetti_traces(model4, 'years_sql', data)\n",
    "\n",
    "# --- Build figure ---\n",
    "fig = go.Figure()\n",
    "\n",
    "# Add all traces but set only GPA visible initially\n",
    "for i, trace in enumerate(traces_gpa + traces_work + traces_py + traces_sql):\n",
    "    # GPA traces visible first; others hidden\n",
    "    trace.visible = (i < len(traces_gpa))\n",
    "    fig.add_trace(trace)\n",
    "\n",
    "# --- Button controls ---\n",
    "n_gpa = len(traces_gpa)\n",
    "n_work = len(traces_work)\n",
    "n_py = len(traces_py)\n",
    "n_sql = len(traces_sql)\n",
    "\n",
    "buttons = [\n",
    "    dict(label='GPA',\n",
    "         method='update',\n",
    "         args=[{'visible': [True]*n_gpa + [False]*(n_work+n_py+n_sql)},\n",
    "               {'title': 'Mixed Effects: GPA vs First Job Salary',\n",
    "                'xaxis': {'title': 'GPA'}}]),\n",
    "    dict(label='Work Experience',\n",
    "         method='update',\n",
    "         args=[{'visible': [False]*n_gpa + [True]*n_work + [False]*(n_py+n_sql)},\n",
    "               {'title': 'Mixed Effects: Relevant Work Experience vs Salary',\n",
    "                'xaxis': {'title': 'Years of Relevant Work Experience'}}]),\n",
    "    dict(label='Python Experience',\n",
    "         method='update',\n",
    "         args=[{'visible': [False]*(n_gpa+n_work) + [True]*n_py + [False]*n_sql},\n",
    "               {'title': 'Mixed Effects: Python Experience vs Salary',\n",
    "                'xaxis': {'title': 'Years of Python Experience'}}]),\n",
    "    dict(label='SQL Experience',\n",
    "         method='update',\n",
    "         args=[{'visible': [False]*(n_gpa+n_work+n_py) + [True]*n_sql},\n",
    "               {'title': 'Mixed Effects: SQL Experience vs Salary',\n",
    "                'xaxis': {'title': 'Years of SQL Experience'}}])\n",
    "]\n",
    "\n",
    "fig.update_layout(\n",
    "    updatemenus=[dict(\n",
    "        type='buttons',\n",
    "        direction='right',\n",
    "        x=0.5,\n",
    "        y=1.0,\n",
    "        buttons=buttons,\n",
    "        showactive=True\n",
    "    )],\n",
    "    title='Mixed Effects: GPA vs First Job Salary',\n",
    "    xaxis_title='GPA',\n",
    "    yaxis_title='First Job Salary',\n",
    "    legend_title=\"Master's Program University\",\n",
    "    template='plotly_white',\n",
    "    height=700\n",
    ")\n",
    "\n",
    "fig.show()"
   ]
  },
  {
   "cell_type": "code",
   "execution_count": 79,
   "id": "9e9c9b44",
   "metadata": {},
   "outputs": [
    {
     "name": "stdout",
     "output_type": "stream",
     "text": [
      "                             Mixed Linear Model Regression Results\n",
      "================================================================================================\n",
      "Model:                        MixedLM            Dependent Variable:            first_job_salary\n",
      "No. Observations:             500                Method:                        REML            \n",
      "No. Groups:                   5                  Scale:                         236258155.4221  \n",
      "Min. group size:              100                Log-Likelihood:                -5501.5289      \n",
      "Max. group size:              100                Converged:                     No              \n",
      "Mean group size:              100.0                                                             \n",
      "------------------------------------------------------------------------------------------------\n",
      "                                           Coef.      Std.Err.   z    P>|z|   [0.025     0.975] \n",
      "------------------------------------------------------------------------------------------------\n",
      "Intercept                                  -8973.582 12383.163 -0.725 0.469 -33244.135 15296.971\n",
      "masters_gpa                                39961.060  3818.660 10.465 0.000  32476.623 47445.496\n",
      "relevant_work_years                         6638.395   770.832  8.612 0.000   5127.592  8149.198\n",
      "years_python                                1990.332   578.871  3.438 0.001    855.765  3124.898\n",
      "years_sql                                    874.099   790.432  1.106 0.269   -675.120  2423.317\n",
      "Group Var                              171770272.272 28925.133                                  \n",
      "Group x masters_gpa Cov                -50962141.152  9149.855                                  \n",
      "masters_gpa Var                         26992546.717  3191.741                                  \n",
      "Group x relevant_work_years Cov         -4086775.899                                            \n",
      "masters_gpa x relevant_work_years Cov    4329260.984                                            \n",
      "relevant_work_years Var                   958003.974   110.188                                  \n",
      "Group x years_python Cov                -2435276.096                                            \n",
      "masters_gpa x years_python Cov            327131.509   317.723                                  \n",
      "relevant_work_years x years_python Cov      8911.660                                            \n",
      "years_python Var                          281096.794                                            \n",
      "Group x years_sql Cov                    7248606.929  1154.220                                  \n",
      "masters_gpa x years_sql Cov               235274.413   349.754                                  \n",
      "relevant_work_years x years_sql Cov       341640.518    75.537                                  \n",
      "years_python x years_sql Cov             -124337.631                                            \n",
      "years_sql Var                            1708921.610    98.373                                  \n",
      "================================================================================================\n",
      "\n",
      "Full Model → R²: 0.116, RMSE: 22,362\n"
     ]
    },
    {
     "name": "stderr",
     "output_type": "stream",
     "text": [
      "/Users/neeldeshmukh/miniconda3/envs/ME_Model/lib/python3.11/site-packages/statsmodels/base/model.py:607: ConvergenceWarning:\n",
      "\n",
      "Maximum Likelihood optimization failed to converge. Check mle_retvals\n",
      "\n",
      "/Users/neeldeshmukh/miniconda3/envs/ME_Model/lib/python3.11/site-packages/statsmodels/regression/mixed_linear_model.py:2200: ConvergenceWarning:\n",
      "\n",
      "Retrying MixedLM optimization with lbfgs\n",
      "\n",
      "/Users/neeldeshmukh/miniconda3/envs/ME_Model/lib/python3.11/site-packages/statsmodels/base/model.py:607: ConvergenceWarning:\n",
      "\n",
      "Maximum Likelihood optimization failed to converge. Check mle_retvals\n",
      "\n",
      "/Users/neeldeshmukh/miniconda3/envs/ME_Model/lib/python3.11/site-packages/statsmodels/regression/mixed_linear_model.py:2200: ConvergenceWarning:\n",
      "\n",
      "Retrying MixedLM optimization with cg\n",
      "\n",
      "/Users/neeldeshmukh/miniconda3/envs/ME_Model/lib/python3.11/site-packages/statsmodels/base/model.py:607: ConvergenceWarning:\n",
      "\n",
      "Maximum Likelihood optimization failed to converge. Check mle_retvals\n",
      "\n",
      "/Users/neeldeshmukh/miniconda3/envs/ME_Model/lib/python3.11/site-packages/statsmodels/regression/mixed_linear_model.py:2206: ConvergenceWarning:\n",
      "\n",
      "MixedLM optimization failed, trying a different optimizer may help.\n",
      "\n",
      "/Users/neeldeshmukh/miniconda3/envs/ME_Model/lib/python3.11/site-packages/statsmodels/regression/mixed_linear_model.py:2218: ConvergenceWarning:\n",
      "\n",
      "Gradient optimization failed, |grad| = 27.576868\n",
      "\n",
      "/Users/neeldeshmukh/miniconda3/envs/ME_Model/lib/python3.11/site-packages/statsmodels/regression/mixed_linear_model.py:2261: ConvergenceWarning:\n",
      "\n",
      "The Hessian matrix at the estimated parameter values is not positive definite.\n",
      "\n"
     ]
    },
    {
     "data": {
      "application/vnd.plotly.v1+json": {
       "config": {
        "plotlyServerURL": "https://plotly.com"
       },
       "data": [
        {
         "line": {
          "color": "black",
          "dash": "dash"
         },
         "mode": "lines",
         "name": "Perfect Prediction",
         "type": "scatter",
         "x": [
          85000,
          221942
         ],
         "y": [
          85000,
          221942
         ]
        },
        {
         "marker": {
          "color": "#636EFA",
          "opacity": 0.7,
          "size": 7
         },
         "mode": "markers",
         "name": "UC Berkeley",
         "type": "scatter",
         "x": {
          "bdata": "54Dmw1YcA0GaQitN/hQFQbP94+Bu9/1Ax+OuhnxSAUE0M6/jmN4BQWTTaXTMAQJBJ/lbFm55BEFP8Dga2hP/QMPlJEGY3wRBXpo4xd6yBEHN3LmbEvsCQXJIrGfU7QFBbAU2sfdOBEFgBAbRVoIBQYVHdE+94wNB6jS9qyDuAUHZLkMrJOcGQcPbLGD6ngJBQ4kGC/xIAUF5Rowr8MECQez0TlX1nARBHnoyddbsBUHUkDMoZT0EQV4VToUT4AJBZidrMbxEBkFMu4qLU+sBQfQAinQl6gJBj8OrLS8nAkGmomyTmwkEQY2ZBLwO/gBBlusyY2skBEFh718MoVABQQdpqMn5VwFBdNgKkUe9AkEaaHCx4k0DQWuH4wAfRANBpduFrCrZBUFSKIs5hYAHQcBHuOJhpgRBabss1aVMAkFBhTsuwXf/QEJU+XGX2QNBnS6pGUjDAUGvIrVbtREDQfbkk9xQmwNBdVNoDVCVAkGv2AH+mnAFQWZxHo/W5QNBE6bo78yhAkE9ZTNk8IACQcFBL483nf1AcJmqLpBHAkGEHc3dnLoCQYORIkNaIAVBBLZIgLzdAkHfC7UDXdAGQVi2i7gqkQFBkpIP0aSmAkHEWkEmSln/QDM6/7a3+wBB45WHHo/pBkFrpoYQ8BoCQR//1PjNFAZBH6suJJOXAkGnOjq3r3EEQfrJYQlaswJB9uST3FCbA0F6KpaTG3MDQcfjroZ8UgFBSCEvF8V2AkHv8tia2Q8BQctorPIoQAJBnhkDVZKRAUHh13CZUywEQco3sENslQVBbqry4kylA0F0Yb7+5qkDQdXB4rDQ2AJBN1amtXhxBUGoOvL628YCQTTfA6Xg/AFBc84NRiwYBEFvFAirmB8CQZ4LXkTX8gZBxE86CeRZA0HCNihy0Z0BQcQaMtr8TgJBjRpExY/tBUFJbWbxXlsGQRnDa8O5TAJBloyDwmPwAUH2hlnhAkQGQVyC6ENDpv5A9Gr4db9y/0DLGBKeGCMDQRsmMbjmqQFBXmlBgJ9sBEGG995kKisBQWR4bmL1AgNByv6RwF9hB0E=",
          "dtype": "f8"
         },
         "y": {
          "bdata": "n1ECAO+mAgDPOgIAXpcBAIgnAgAVTgIAMqACAJ/JAQApMAIA+6ACALzBAgA6yQEAxbUCAOIfAgBIeAIACQcCAGm4AgDsnAIAAEcCAHS/AgBI1AIAGtACAOzoAgABewIApfICAEsmAgCaXgIA/hICAH60AgA/2AEAtq0CAKgjAgBBVgIA23kCAA7WAgDDkwIAG1UCADXZAgDpRwIAVCECAF8+AgB4oAIAKwgCAHAiAgA1cAIAAAsCAEKBAgChjQIAOJgCAElqAgAITAEAXVkCAHZhAgBCtgIAtb4CAFlVAgAuFAIA5m4CANmaAQBPcgIAo+QCAOpsAgDclwIA7ncCAPjHAgBNZQIAkHsCAG5+AgAU/AEAtEcCAF8eAgCXVAIAuWYCAPFEAgC6pQIAfssCABREAgC1LAIAA7ICAAeOAgDbQAIAV8wCAI16AgB8AwMAaosCAPK1AgBzNQIA8kMCAMYgAwBdMAIAc0QCAIYLAwC4jwEAYbABAEwIAgCmCQIAaqICAGhKAgCIcgIAhYsCAA==",
          "dtype": "i4"
         }
        },
        {
         "marker": {
          "color": "#EF553B",
          "opacity": 0.7,
          "size": 7
         },
         "mode": "markers",
         "name": "Stanford",
         "type": "scatter",
         "x": {
          "bdata": "it+cW4YRBUEoUbvjVpAHQRSjTKveuQZBNry4z28sB0FA9ZGNY1ADQTjtZ1jbxwVB7p1pl0PHAkHGLD5TlxMCQQeFp7m0+AZBnU3n8nm8BUEY1PszSlUFQfjzrZLFFgNB8XArS7IaAkFmHXNQHgQEQQGhLcownQlBi/fqLbtmCEE5FT4nK54CQSNKWt0p0wRBOnfk9NV/AUGvIDo3HCADQW8CnGXc4QNBexHaekAYBkHIcuke8EEFQQpmv166YAdBEwGCPK+sB0HnNjNmPHsFQeVyi2hCowVBadNil4zTCEHI++my4D0EQWFjtXFetgNBTS+AJO/XBUGELC9Q5eADQcRdMC5Z9QVBy0K5DzlMBEGxJf2cErwHQa1SiA/1dwZBSNB1mzLeAkGHThqhE2IHQQ/URWPgyQNBgnSym06QBEFxCVrHgC4EQRTYVtOYPwNB9Z4+jy/OBEGyd3rdgrsFQd5LI1qIIQRB2qYZAuK7BkH8xieKYL8AQbtYpa5pPgVBzc5jqnvmAUHmw0Tk1DsFQUy0NU63aQZBxWAlYikoB0EsCNG0l7oEQdzbJptGKwRBbabcjid8BkH39p9V618DQRksWwEzbAhBs/8OJKAsBkEHy/wG1sUFQedImkF7VAdB4b60gHjRBkFc6shF9AYLQb6iZs7nlQVBKnQUeysXBUEN4cTpyA0GQbsIEMTWhQJBDP1yxcmxA0FQeaEQj6gEQR3jcNJzlgVBiene8cp3BEEA5KXzzwUEQfyS3rXZtgFBqEX2XCsZBUHHPkjTXl0GQdC9cXT26QRBgvmc2xljBkHTzhQRaA0HQQ/XNyYGEwRBfUbnE6WHA0HN5739YU0FQdcL7Iwi2wRBlkLQZElPBEGlkR91YUcGQVtUQNM0dQNBE4Pl1i98CUEwxp99/8wFQY3DpsOxwgVB6Y6SMyWSCEH5eAha6ZMBQcUBdsEh9ARBhNMZgIIZBUFZ8XreBxgEQU5L5EpJVgZBuG1GCaILCUFgvrCDNbUCQXwmOIMinwRBKQEm+cPXBEFfgefJ3p0HQdGBGXLwwQRBfODiNQHSBUE=",
          "dtype": "f8"
         },
         "y": {
          "bdata": "n7MCACIkAwBhmAIAeagCAFxiAgDYjgIABXoCAPSuAQA6jQIAgGwCAAgHAgC7EgIAzO4BABNeAgCYOAMAZdQCAPUFAgBcfQIAj18CADsWAgB8LwIACcQCAM+AAgA+7QIAlcsCALi9AgB4WgIAjekCAPBhAgDkFgIAcTwCAAmJAgAfhwIAnzICAPfLAgCL8AIAMMUBANJtAgDWLAIA+dACAPqAAgAAggIAezkCAMhUAgCciAIAJLgCAE0gAgBXgAIA8jkCACqTAgAT2wIA7u0CABAfAgD66gEA3ugCAJWdAgD6pAIAnDkCAJGkAgAl/QIAiyEDAA5EAwABggIA7lYCADegAgAqLAIApyQCAN/zAgAS+wIAtLkCANg0AgBJWgIAWKoCAAjBAgDZygIAgs4CAKTqAgD9kwIAyWwCAPEgAgDrggIA1VICAK1bAgBRuwIA9mIDAGrsAgB9qAIAZDYDAPwYAgC1jQIAwEwCAMODAgCcrgIALaMCAOo+AgATeQIAcukCACMHAwB3fAIAnKwCAA==",
          "dtype": "i4"
         }
        },
        {
         "marker": {
          "color": "#00CC96",
          "opacity": 0.7,
          "size": 7
         },
         "mode": "markers",
         "name": "UCLA",
         "type": "scatter",
         "x": {
          "bdata": "OowwGSvP/UCT/CSZ8CABQR22j+FZeQJBDiHrgyC0AUF8I0bA/FUEQQdU/ZrGwQRBc02BFloZAUGifB7I9k8FQYWNEVmyWwRBTHHXLTlKBEF/r0bZdlEGQT3gkOD4WAJBhhA5uBCSBEGVwYvxSvsCQWSeXNtnkgRB4qot40QbB0EH2Z8evukEQcw6RasaTwhBZh1zUB4EBEF676ZtPuwAQX6J/XdP/ANBIBHm2+U9AkG+7BksAjcDQaKDbpsVbQRBNE/7+aSOBUFqqpf6l98CQZkSUy9BSgVBldzLhqWZBkEX+61xmksFQSE7QCe1VwVBMVmY8o0JB0EyEPk6uYv/QAg1X/VyTwJBgCOhqLEbBUGBwnbjEPYCQXQH5AxloQBBOTjfetPPAUFDKqh+rhEHQXePG/gKgwNBonweyPZPBUHISzfhn0sFQTcOOAmzpgBBpLsjQvn/BEGPZ4yKWEgGQV8EAWfZHQVBuo2t3VBJBkG1X5qZ05UDQXUfHznJjANB4ofbrsBzAUElfkZWOUwGQXjDukrJ7AZBIeSiJdcsBUFCxy+w0sMFQacohrUfiQRBGaOnk5N/B0HlKURY+4wGQYszSJo+8wRBA9lENgkkBEHfLlZXBQIGQWkWKOd8SwFBJ3HHz1AIBEFEDqmO83ABQXURKRRU8QBBpFkiEqoJBEFBQo0s25sFQaw+q/OJYAJBx1blxLc8A0G6vqQikI8GQf6YxazPMgNBcmSrV4+OB0HIJrJEVl0BQe/Hw+IS4QVBEUHwktr9BEEKPSnYyK0CQZ6itsIxfgJBsSYhLhKcBEG4NU4QaDIDQQmzsaVLWgNBrGVdMdpWAkF5Rowr8MECQdbvmgyZxgRBbzOmUOyRBEGYKjjdbdQDQZ76X0XBugJBLlUsIDF/BUGKEJSgxVcFQYrjnVp0Gf9AP6KoZCIe/0CABP6Y4EQGQe0YxxNMnwJBxYDpkU/1AUFCgrHNX8cFQTfHwZs84wVBdkwYOjF4A0GJ+0o3h7UCQSdAveRAWANBW8+dTz1NA0GkmG9IgGQFQZUibvoXdgNBqd/26ATIA0E=",
          "dtype": "f8"
         },
         "y": {
          "bdata": "aN4BAGgQAgASCgIAW+4BAAK3AgDnjgIAlxECAJusAgBKvgIAdJwCABCnAgD0nQIA5vECALmHAgCe1AIAciUDALbjAgBqIgMAYKwCAKVKAgBxSgIAfXsCAA0jAgA5ZAIAd/8CAGiZAgCQAwMAlMQCAPloAgCypAIA4+QCADkJAgDMmQIAeJECAI6CAgBE8QEArWQCAN/fAgBtTwIAdp4CALukAgDKHAIA7AwDAI/EAgDsmAIAvUsCAHlJAgDVbAIAwxMCAGYXAwAo0gIAOPQCAO2+AgBCnAIAIuMCAMvKAgCmBgMA1gMCAORLAgA0+gEAC4oCAH1GAgDBQAIAkHMCAKHzAgA+kAIAIHwCALAEAwBZgQIAUswCANhmAgC0xwIAjqACAMC2AgAHyQEAZ0cCAJ8uAgDwWQIAOkkCAFsLAgCWYgIAeWcCAPcQAwAlzQIAI5wCAFaVAgAZwwEAQpgBAK2+AgDBJwIAaEYCAE1dAgBRjQIA330CAFx7AgAsjQIAxCgCAJXeAgCrRgIAFKgCAA==",
          "dtype": "i4"
         }
        },
        {
         "marker": {
          "color": "#AB63FA",
          "opacity": 0.7,
          "size": 7
         },
         "mode": "markers",
         "name": "UC San Diego",
         "type": "scatter",
         "x": {
          "bdata": "LSEzLRIz/kAcnX1KR70AQdk8mxWOdgNBf2MP/9xsAkEMiWUc4PYCQZ0uqRlIwwFBCTIldnlbAEFIRyL6tGoAQXWStUMm8ANBphZ6PIXEBEG8SCR6ofT7QKFyKaJvvPxAaRYo53xLAUGu3SaOiFj8QE0+nZV6AP9AOowwGSvP/UCNU69u7TACQVEivFLd0gJBiOY3po+G/0AMUi1ASlL9QNCsLHtQOf1Au8nCjQArAUHHii6ZPkUCQXb8gk+evwBBIz+joSuQAEGGa+wNFOYBQeMQNXz/ff5AbXZTkI47AEFRojn1VS79QOmTyaefsQFBoGjkmoBs/EBQBCh/1Lr9QPntJD+bDfxAk8DHLG2UBEHVpTeQ5uH+QFQJBaR/3AFBUfQD9xTlAEFIRyL6tGoAQYlF/pShVgBBAeCUCShBA0GA6LGC1JQCQcFBL483nf1A0KElXuo5AUE9mjuT14sDQcFBL483nf1AczgmyY4//EDJNMB5GccAQWHvXwyhUAFBHUKCOHC+AUGSAyhGvi4CQcn//wYGZwFBzc5jqnvmAUFQ2FCxltwGQahLh9XpMwJBUnmmegwNAUFHPd3yxRoAQRzYbHAkRANBMhD5OrmL/0CciaQrH8IAQanR6LNBXgRBKnyI30kUAUFtPxu0+Jb6QBzLNaYPqwJB3T7cpLnL/ED/2yg3y7YBQdf5l1e0awNBV2Ir8VwH/UAW9AcgRM0BQQ7blTb/5gJBqRtUVYhUAEF+Q62Uq5MBQSHPpuLpmQBBvv2uBhCkAkF5ezq6dur/QJ0uqRlIwwFBab89v00RA0HmmaLcMXcAQZQchwMi+gFBisqgGJl+AEHhVuRpgS0BQRq9Kixj7vxAEWfjdcrxAkE5Dc8sigUDQZu6TkoN+QJBB2moyflXAUGc5PW7LSIEQZRi3FBDxwBBMxo+Qqjb/0B8IPfry0D/QPcIDJunnQFBEt8Gc9nVAEEaArn5j6cDQe8AL4xwJAJBP+tMhnQAA0G56+fYnqADQUxwFccwtvlAq/0tEAVs/EB/LgfQ9WEBQU/wOBraE/9Ad6GHPcfAAUE=",
          "dtype": "f8"
         },
         "y": {
          "bdata": "A1cCAH+8AgC+tAIAmY4CAFbmAgDN2QIA73oCACUbAgAplQIA+K4CAFa7AQChMwIAjsECAO0nAgBl5QEAFjECAH+rAgCFRgMA1BECAPIeAgB9mAIA77kCAOC7AgBfjAIAhn4CAFXgAgAYFwIAG7ICAH7/AQDgwwIAE0gCAMIxAgCyIgIABNgCAJEMAgD5jgIA2UgCAIt6AgCiPgIAEQEDAFp6AgD+FwIA+GsCAEwsAwBzTQIAGRoCAGCyAgBxIgIAjqUCANQzAwCSpQIAb7ICAMRaAwAa4QIAfQMCABAaAgDS4AIAdD8CAHm9AgBv4gIASCUCAMzEAQBSJAIAkTQCAHeTAgCxvwIA3HACAFzxAgDFxAIAfAQCAP2/AgCSoAIACMsCAHimAgBZWwIAPEgDAN0vAgAm3gIA4RgCAGdkAgAoiQIAHL8CABEFAwDN3wIARHsCAAhBAwBFgAIAS/EBABw3AgDQxQIAZacCADqCAgCpiAIAS7ICACfLAgASsgEAsBcCAABsAgAofAIAyNgCAA==",
          "dtype": "i4"
         }
        },
        {
         "marker": {
          "color": "#FFA15A",
          "opacity": 0.7,
          "size": 7
         },
         "mode": "markers",
         "name": "San Jose State",
         "type": "scatter",
         "x": {
          "bdata": "va0Usv+GA0Hs1oKw0pYEQdD9NUlZnAZBdomdJR3SBkEvJfmfz58DQYs+TvVgwAJBX/2wk7oABkEIpVZKN+EFQVImctrgggFBUbykzmizBEHvZuZDw8oBQQqCWpTqmgRBIhJbgZ8aB0GacQTJG/kCQXQH5AxloQBBfM9NW/NkBkEFAJoY4ooGQUb7mI9MEgJB5IuPPfGoBEE1lVBHxlsEQW/Osl13UgNBvzYjCFQ5BUHFoEaSA2oGQdBbg+p3XQRBUPi0FJswA0HMsJcFWeABQZTLy4685gZB27/CdOysA0FPRVg8CKAFQTuXRl8HWQJBZqM29GoiAEGYdJ4UN2YDQcnZDCQWcwNBeQA33s70A0Hnq182qLEGQTpzzqCwVgRBUeNUE+YuCUH2WKGFOlYEQWmL9OrGCARBc2wfvK2LA0EzLFqm/FwGQUYLwCO0eQdBWnijPFRW/kDjF+2x4jMEQbIGyBvHFApBV3Nw6gK4BEFs0ezccEYFQdLILRpykQVB56RZGDC6BEEJXMd9HCAFQb/Ne4auxABBehw7OAf6BUGMdktYGP4EQcLR51gLTwJB9kdUZwCUBkGCZlqx5AAIQbAS5EWFCwJBc/+3ZBpPBkEdMe1dYlECQR0peflDVAZBEqr52XRmA0FpmCu126EEQdEbtccqkwhBLFwcJy4jBkFrS4aUm7cGQcbWApsOH/9Any7/l38kBkHhuM2JglUFQZIpuWO5LgZBu7ElnKdLBEFIIeLwc2cEQTD0pP8YygVBtKyHducqA0HLTPulfbIDQTJE34cHbgZBqB9lPzAZAUHx3eO2/1MHQaQThQi1kQNBYv1VMRbsA0EQG6cxs6gCQZFJdjCPHAlBlzlPIjhmAkH7bmb3grQDQaw/ak7qYgRBssQf/sKlA0FngyoIcaoDQZXcy4almQZB1Pbq37fjA0GQjxUzVw8FQRCjO3jQGQNBRcGjoZENBUFc1pDH5NoEQaXijcN1SwNBKLBsfTE/BUHwEu7eudkDQf0sxTiSHAhBObc4QuCHBkEzef/GPEcEQVr1eCLfcgRBzQmbjCwYBkE=",
          "dtype": "f8"
         },
         "y": {
          "bdata": "P0wCAI8DAgBxxQIAZbsCAOY6AgBoGQIALF4CACSOAgA/2gEAV1ICAJAoAgC3IgIA5WACAN/RAQBglwEAsAsCAEefAgCwZwIALZUCALfeAQA/SAIAsqcCADNZAgBhRQIAj6cBAOAIAgDtQAIAkTMCAAEBAgBDJgIA+AICAAj1AQAy3gEAmLEBAIFuAgDTGgIAr1oCADpXAgBaGAIA9OcBAHRVAgDI0gIAGMsBAEo1AgAm/gIAPAECABBUAgB6YwIAnCwCAMpqAgD2owEAg4YCAI9sAgAWWQEAxL4CAB3vAQD31gEAWK0CAIbyAQAcIAIAguQBAEqCAgDvPQIAqa0CAKx6AgCqcQEA/ksCAMEaAgAWowIAGmYCAPHbAQBpSgIAFOYBAMd3AgC3JAIAwkACAPuNAgBT5gEATwkCAHPaAQDBcQIAnAkCAJfhAQBXtwEAwRMCAEbCAQAcUwIAhPgBAF8dAgAOjgIAFFMCAI1WAgCsvAEA+i8CAD09AgA+XQIAp54CADr2AQCHLQIAfEgCAA==",
          "dtype": "i4"
         }
        }
       ],
       "layout": {
        "height": 600,
        "legend": {
         "title": {
          "text": "Master's Program University"
         }
        },
        "template": {
         "data": {
          "bar": [
           {
            "error_x": {
             "color": "#2a3f5f"
            },
            "error_y": {
             "color": "#2a3f5f"
            },
            "marker": {
             "line": {
              "color": "white",
              "width": 0.5
             },
             "pattern": {
              "fillmode": "overlay",
              "size": 10,
              "solidity": 0.2
             }
            },
            "type": "bar"
           }
          ],
          "barpolar": [
           {
            "marker": {
             "line": {
              "color": "white",
              "width": 0.5
             },
             "pattern": {
              "fillmode": "overlay",
              "size": 10,
              "solidity": 0.2
             }
            },
            "type": "barpolar"
           }
          ],
          "carpet": [
           {
            "aaxis": {
             "endlinecolor": "#2a3f5f",
             "gridcolor": "#C8D4E3",
             "linecolor": "#C8D4E3",
             "minorgridcolor": "#C8D4E3",
             "startlinecolor": "#2a3f5f"
            },
            "baxis": {
             "endlinecolor": "#2a3f5f",
             "gridcolor": "#C8D4E3",
             "linecolor": "#C8D4E3",
             "minorgridcolor": "#C8D4E3",
             "startlinecolor": "#2a3f5f"
            },
            "type": "carpet"
           }
          ],
          "choropleth": [
           {
            "colorbar": {
             "outlinewidth": 0,
             "ticks": ""
            },
            "type": "choropleth"
           }
          ],
          "contour": [
           {
            "colorbar": {
             "outlinewidth": 0,
             "ticks": ""
            },
            "colorscale": [
             [
              0,
              "#0d0887"
             ],
             [
              0.1111111111111111,
              "#46039f"
             ],
             [
              0.2222222222222222,
              "#7201a8"
             ],
             [
              0.3333333333333333,
              "#9c179e"
             ],
             [
              0.4444444444444444,
              "#bd3786"
             ],
             [
              0.5555555555555556,
              "#d8576b"
             ],
             [
              0.6666666666666666,
              "#ed7953"
             ],
             [
              0.7777777777777778,
              "#fb9f3a"
             ],
             [
              0.8888888888888888,
              "#fdca26"
             ],
             [
              1,
              "#f0f921"
             ]
            ],
            "type": "contour"
           }
          ],
          "contourcarpet": [
           {
            "colorbar": {
             "outlinewidth": 0,
             "ticks": ""
            },
            "type": "contourcarpet"
           }
          ],
          "heatmap": [
           {
            "colorbar": {
             "outlinewidth": 0,
             "ticks": ""
            },
            "colorscale": [
             [
              0,
              "#0d0887"
             ],
             [
              0.1111111111111111,
              "#46039f"
             ],
             [
              0.2222222222222222,
              "#7201a8"
             ],
             [
              0.3333333333333333,
              "#9c179e"
             ],
             [
              0.4444444444444444,
              "#bd3786"
             ],
             [
              0.5555555555555556,
              "#d8576b"
             ],
             [
              0.6666666666666666,
              "#ed7953"
             ],
             [
              0.7777777777777778,
              "#fb9f3a"
             ],
             [
              0.8888888888888888,
              "#fdca26"
             ],
             [
              1,
              "#f0f921"
             ]
            ],
            "type": "heatmap"
           }
          ],
          "histogram": [
           {
            "marker": {
             "pattern": {
              "fillmode": "overlay",
              "size": 10,
              "solidity": 0.2
             }
            },
            "type": "histogram"
           }
          ],
          "histogram2d": [
           {
            "colorbar": {
             "outlinewidth": 0,
             "ticks": ""
            },
            "colorscale": [
             [
              0,
              "#0d0887"
             ],
             [
              0.1111111111111111,
              "#46039f"
             ],
             [
              0.2222222222222222,
              "#7201a8"
             ],
             [
              0.3333333333333333,
              "#9c179e"
             ],
             [
              0.4444444444444444,
              "#bd3786"
             ],
             [
              0.5555555555555556,
              "#d8576b"
             ],
             [
              0.6666666666666666,
              "#ed7953"
             ],
             [
              0.7777777777777778,
              "#fb9f3a"
             ],
             [
              0.8888888888888888,
              "#fdca26"
             ],
             [
              1,
              "#f0f921"
             ]
            ],
            "type": "histogram2d"
           }
          ],
          "histogram2dcontour": [
           {
            "colorbar": {
             "outlinewidth": 0,
             "ticks": ""
            },
            "colorscale": [
             [
              0,
              "#0d0887"
             ],
             [
              0.1111111111111111,
              "#46039f"
             ],
             [
              0.2222222222222222,
              "#7201a8"
             ],
             [
              0.3333333333333333,
              "#9c179e"
             ],
             [
              0.4444444444444444,
              "#bd3786"
             ],
             [
              0.5555555555555556,
              "#d8576b"
             ],
             [
              0.6666666666666666,
              "#ed7953"
             ],
             [
              0.7777777777777778,
              "#fb9f3a"
             ],
             [
              0.8888888888888888,
              "#fdca26"
             ],
             [
              1,
              "#f0f921"
             ]
            ],
            "type": "histogram2dcontour"
           }
          ],
          "mesh3d": [
           {
            "colorbar": {
             "outlinewidth": 0,
             "ticks": ""
            },
            "type": "mesh3d"
           }
          ],
          "parcoords": [
           {
            "line": {
             "colorbar": {
              "outlinewidth": 0,
              "ticks": ""
             }
            },
            "type": "parcoords"
           }
          ],
          "pie": [
           {
            "automargin": true,
            "type": "pie"
           }
          ],
          "scatter": [
           {
            "fillpattern": {
             "fillmode": "overlay",
             "size": 10,
             "solidity": 0.2
            },
            "type": "scatter"
           }
          ],
          "scatter3d": [
           {
            "line": {
             "colorbar": {
              "outlinewidth": 0,
              "ticks": ""
             }
            },
            "marker": {
             "colorbar": {
              "outlinewidth": 0,
              "ticks": ""
             }
            },
            "type": "scatter3d"
           }
          ],
          "scattercarpet": [
           {
            "marker": {
             "colorbar": {
              "outlinewidth": 0,
              "ticks": ""
             }
            },
            "type": "scattercarpet"
           }
          ],
          "scattergeo": [
           {
            "marker": {
             "colorbar": {
              "outlinewidth": 0,
              "ticks": ""
             }
            },
            "type": "scattergeo"
           }
          ],
          "scattergl": [
           {
            "marker": {
             "colorbar": {
              "outlinewidth": 0,
              "ticks": ""
             }
            },
            "type": "scattergl"
           }
          ],
          "scattermap": [
           {
            "marker": {
             "colorbar": {
              "outlinewidth": 0,
              "ticks": ""
             }
            },
            "type": "scattermap"
           }
          ],
          "scattermapbox": [
           {
            "marker": {
             "colorbar": {
              "outlinewidth": 0,
              "ticks": ""
             }
            },
            "type": "scattermapbox"
           }
          ],
          "scatterpolar": [
           {
            "marker": {
             "colorbar": {
              "outlinewidth": 0,
              "ticks": ""
             }
            },
            "type": "scatterpolar"
           }
          ],
          "scatterpolargl": [
           {
            "marker": {
             "colorbar": {
              "outlinewidth": 0,
              "ticks": ""
             }
            },
            "type": "scatterpolargl"
           }
          ],
          "scatterternary": [
           {
            "marker": {
             "colorbar": {
              "outlinewidth": 0,
              "ticks": ""
             }
            },
            "type": "scatterternary"
           }
          ],
          "surface": [
           {
            "colorbar": {
             "outlinewidth": 0,
             "ticks": ""
            },
            "colorscale": [
             [
              0,
              "#0d0887"
             ],
             [
              0.1111111111111111,
              "#46039f"
             ],
             [
              0.2222222222222222,
              "#7201a8"
             ],
             [
              0.3333333333333333,
              "#9c179e"
             ],
             [
              0.4444444444444444,
              "#bd3786"
             ],
             [
              0.5555555555555556,
              "#d8576b"
             ],
             [
              0.6666666666666666,
              "#ed7953"
             ],
             [
              0.7777777777777778,
              "#fb9f3a"
             ],
             [
              0.8888888888888888,
              "#fdca26"
             ],
             [
              1,
              "#f0f921"
             ]
            ],
            "type": "surface"
           }
          ],
          "table": [
           {
            "cells": {
             "fill": {
              "color": "#EBF0F8"
             },
             "line": {
              "color": "white"
             }
            },
            "header": {
             "fill": {
              "color": "#C8D4E3"
             },
             "line": {
              "color": "white"
             }
            },
            "type": "table"
           }
          ]
         },
         "layout": {
          "annotationdefaults": {
           "arrowcolor": "#2a3f5f",
           "arrowhead": 0,
           "arrowwidth": 1
          },
          "autotypenumbers": "strict",
          "coloraxis": {
           "colorbar": {
            "outlinewidth": 0,
            "ticks": ""
           }
          },
          "colorscale": {
           "diverging": [
            [
             0,
             "#8e0152"
            ],
            [
             0.1,
             "#c51b7d"
            ],
            [
             0.2,
             "#de77ae"
            ],
            [
             0.3,
             "#f1b6da"
            ],
            [
             0.4,
             "#fde0ef"
            ],
            [
             0.5,
             "#f7f7f7"
            ],
            [
             0.6,
             "#e6f5d0"
            ],
            [
             0.7,
             "#b8e186"
            ],
            [
             0.8,
             "#7fbc41"
            ],
            [
             0.9,
             "#4d9221"
            ],
            [
             1,
             "#276419"
            ]
           ],
           "sequential": [
            [
             0,
             "#0d0887"
            ],
            [
             0.1111111111111111,
             "#46039f"
            ],
            [
             0.2222222222222222,
             "#7201a8"
            ],
            [
             0.3333333333333333,
             "#9c179e"
            ],
            [
             0.4444444444444444,
             "#bd3786"
            ],
            [
             0.5555555555555556,
             "#d8576b"
            ],
            [
             0.6666666666666666,
             "#ed7953"
            ],
            [
             0.7777777777777778,
             "#fb9f3a"
            ],
            [
             0.8888888888888888,
             "#fdca26"
            ],
            [
             1,
             "#f0f921"
            ]
           ],
           "sequentialminus": [
            [
             0,
             "#0d0887"
            ],
            [
             0.1111111111111111,
             "#46039f"
            ],
            [
             0.2222222222222222,
             "#7201a8"
            ],
            [
             0.3333333333333333,
             "#9c179e"
            ],
            [
             0.4444444444444444,
             "#bd3786"
            ],
            [
             0.5555555555555556,
             "#d8576b"
            ],
            [
             0.6666666666666666,
             "#ed7953"
            ],
            [
             0.7777777777777778,
             "#fb9f3a"
            ],
            [
             0.8888888888888888,
             "#fdca26"
            ],
            [
             1,
             "#f0f921"
            ]
           ]
          },
          "colorway": [
           "#636efa",
           "#EF553B",
           "#00cc96",
           "#ab63fa",
           "#FFA15A",
           "#19d3f3",
           "#FF6692",
           "#B6E880",
           "#FF97FF",
           "#FECB52"
          ],
          "font": {
           "color": "#2a3f5f"
          },
          "geo": {
           "bgcolor": "white",
           "lakecolor": "white",
           "landcolor": "white",
           "showlakes": true,
           "showland": true,
           "subunitcolor": "#C8D4E3"
          },
          "hoverlabel": {
           "align": "left"
          },
          "hovermode": "closest",
          "mapbox": {
           "style": "light"
          },
          "paper_bgcolor": "white",
          "plot_bgcolor": "white",
          "polar": {
           "angularaxis": {
            "gridcolor": "#EBF0F8",
            "linecolor": "#EBF0F8",
            "ticks": ""
           },
           "bgcolor": "white",
           "radialaxis": {
            "gridcolor": "#EBF0F8",
            "linecolor": "#EBF0F8",
            "ticks": ""
           }
          },
          "scene": {
           "xaxis": {
            "backgroundcolor": "white",
            "gridcolor": "#DFE8F3",
            "gridwidth": 2,
            "linecolor": "#EBF0F8",
            "showbackground": true,
            "ticks": "",
            "zerolinecolor": "#EBF0F8"
           },
           "yaxis": {
            "backgroundcolor": "white",
            "gridcolor": "#DFE8F3",
            "gridwidth": 2,
            "linecolor": "#EBF0F8",
            "showbackground": true,
            "ticks": "",
            "zerolinecolor": "#EBF0F8"
           },
           "zaxis": {
            "backgroundcolor": "white",
            "gridcolor": "#DFE8F3",
            "gridwidth": 2,
            "linecolor": "#EBF0F8",
            "showbackground": true,
            "ticks": "",
            "zerolinecolor": "#EBF0F8"
           }
          },
          "shapedefaults": {
           "line": {
            "color": "#2a3f5f"
           }
          },
          "ternary": {
           "aaxis": {
            "gridcolor": "#DFE8F3",
            "linecolor": "#A2B1C6",
            "ticks": ""
           },
           "baxis": {
            "gridcolor": "#DFE8F3",
            "linecolor": "#A2B1C6",
            "ticks": ""
           },
           "bgcolor": "white",
           "caxis": {
            "gridcolor": "#DFE8F3",
            "linecolor": "#A2B1C6",
            "ticks": ""
           }
          },
          "title": {
           "x": 0.05
          },
          "xaxis": {
           "automargin": true,
           "gridcolor": "#EBF0F8",
           "linecolor": "#EBF0F8",
           "ticks": "",
           "title": {
            "standoff": 15
           },
           "zerolinecolor": "#EBF0F8",
           "zerolinewidth": 2
          },
          "yaxis": {
           "automargin": true,
           "gridcolor": "#EBF0F8",
           "linecolor": "#EBF0F8",
           "ticks": "",
           "title": {
            "standoff": 15
           },
           "zerolinecolor": "#EBF0F8",
           "zerolinewidth": 2
          }
         }
        },
        "title": {
         "text": "Predicted vs Actual: Full Mixed Effects Model"
        },
        "width": 800,
        "xaxis": {
         "title": {
          "text": "Predicted Salary"
         }
        },
        "yaxis": {
         "title": {
          "text": "Actual Salary"
         }
        }
       }
      }
     },
     "metadata": {},
     "output_type": "display_data"
    }
   ],
   "source": [
    "import statsmodels.formula.api as smf\n",
    "from sklearn.metrics import r2_score, mean_squared_error\n",
    "import plotly.express as px\n",
    "universities = data['masters_university'].unique()\n",
    "color_map = {uni: color for uni, color in zip(universities, px.colors.qualitative.Plotly)}\n",
    "\n",
    "model_full = smf.mixedlm(\n",
    "    \"first_job_salary ~ masters_gpa + relevant_work_years + years_python + years_sql\",\n",
    "    data=data,\n",
    "    groups=data[\"masters_university\"],\n",
    "    re_formula=\"~masters_gpa + relevant_work_years + years_python + years_sql\"\n",
    ").fit()\n",
    "\n",
    "print(model_full.summary())\n",
    "\n",
    "\n",
    "data['pred_full'] = model_full.predict()\n",
    "\n",
    "r2_full = r2_score(data['first_job_salary'], data['pred_full'])\n",
    "rmse_full = np.sqrt(mean_squared_error(data['first_job_salary'], data['pred_full']))\n",
    "\n",
    "print(f\"Full Model → R²: {r2_full:.3f}, RMSE: {rmse_full:,.0f}\")\n",
    "\n",
    "min_val = min(data['first_job_salary'].min(), data['pred_full'].min())\n",
    "max_val = max(data['first_job_salary'].max(), data['pred_full'].max())\n",
    "\n",
    "fig = go.Figure()\n",
    "\n",
    "# Reference line\n",
    "fig.add_trace(go.Scatter(\n",
    "    x=[min_val, max_val],\n",
    "    y=[min_val, max_val],\n",
    "    mode='lines',\n",
    "    line=dict(color='black', dash='dash'),\n",
    "    name='Perfect Prediction'\n",
    "))\n",
    "\n",
    "# One trace per university, using fixed colors\n",
    "for uni in universities:\n",
    "    subset = data[data['masters_university'] == uni]\n",
    "    fig.add_trace(go.Scatter(\n",
    "        x=subset['pred_full'],\n",
    "        y=subset['first_job_salary'],\n",
    "        mode='markers',\n",
    "        name=uni,\n",
    "        marker=dict(\n",
    "            size=7,\n",
    "            opacity=0.7,\n",
    "            color=color_map[uni]\n",
    "        )\n",
    "    ))\n",
    "\n",
    "fig.update_layout(\n",
    "    title=f'Predicted vs Actual: Full Mixed Effects Model' ,\n",
    "    xaxis_title='Predicted Salary',\n",
    "    yaxis_title='Actual Salary',\n",
    "    template='plotly_white',\n",
    "    width=800,\n",
    "    height=600,\n",
    "    legend_title=\"Master's Program University\"\n",
    ")\n",
    "\n",
    "fig.show()"
   ]
  }
 ],
 "metadata": {
  "kernelspec": {
   "display_name": "ME_Model",
   "language": "python",
   "name": "python3"
  },
  "language_info": {
   "codemirror_mode": {
    "name": "ipython",
    "version": 3
   },
   "file_extension": ".py",
   "mimetype": "text/x-python",
   "name": "python",
   "nbconvert_exporter": "python",
   "pygments_lexer": "ipython3",
   "version": "3.11.13"
  }
 },
 "nbformat": 4,
 "nbformat_minor": 5
}
